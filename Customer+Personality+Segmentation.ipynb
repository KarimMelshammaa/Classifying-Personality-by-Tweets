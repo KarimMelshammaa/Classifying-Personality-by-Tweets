{
 "cells": [
  {
   "cell_type": "markdown",
   "metadata": {},
   "source": [
    "# Customer Segmentation by Personality Through Twitter Analysis"
   ]
  },
  {
   "cell_type": "markdown",
   "metadata": {},
   "source": [
    "Can we predict personality through the way people write?\n",
    "\n",
    "The goal of this project is to attempt to segment customers according to personality type by analyzing their twitter posts using Natural Language Processing and several classification models. After building the model, attempts are made to predict the personality type of celebrities through their famous quotes.\n",
    "\n",
    "The dataset used for this notebook is from Kaggle.com from the following link: https://www.kaggle.com/datasnaek/mbti-type\n",
    "\n",
    "The Personality System used in this notebook is the Myers-Briggs Type Indicator (MBTI). Information about the MBTI can be found on this link: https://www.myersbriggs.org/my-mbti-personality-type/mbti-basics/. The MBTI system divides personalities into 16 different types, all of which are included in this dataset. \n",
    "\n",
    "Every personality type consists of 4 letters, each representing a feature of the person as follows:\n",
    "\n",
    "First Letter: I for Introversion or E for Extroversion\n",
    "\n",
    "Second Letter: S for Sensing or N for Intuitive\n",
    "\n",
    "Third Letter: T for Thinking or F for Feeling\n",
    "\n",
    "Fourth Letter: J for Judging or P for Feeling\n",
    "\n",
    "In this notebook, we also use a development on the MBTI system called the Keirsey Temperament Sorter which groups the 16 personalities into 4 groups. Information on this system can be found on https://keirsey.com/temperament-overview/.\n",
    "\n",
    "The Keirsey Temperament Sorter groups the above 16 personalities as follows:\n",
    "\n",
    "If a person has N and T, this person is a rational.\n",
    "\n",
    "If a person has N and F, this person is an idealist.\n",
    "\n",
    "If a person has S and J, this person is a guardian.\n",
    "\n",
    "If a person has S and P, this person is an artisan.\n",
    "\n",
    "The content of this notebook is as follows:\n",
    "\n",
    "1. Data Loading\n",
    "\n",
    "2. Text Cleaning and Normalization\n",
    "\n",
    "3. Building Initial Predictive Models\n",
    "\n",
    "4. Balancing the Datasets\n",
    "\n",
    "5. Building Models with Balanced Datasets\n",
    "\n",
    "6. Testing on celebrity quotes\n",
    "\n",
    "7. Conclusion"
   ]
  },
  {
   "cell_type": "markdown",
   "metadata": {},
   "source": [
    "# Data Loading"
   ]
  },
  {
   "cell_type": "markdown",
   "metadata": {},
   "source": [
    "Let us load the data and have a quick look."
   ]
  },
  {
   "cell_type": "code",
   "execution_count": 2,
   "metadata": {},
   "outputs": [
    {
     "data": {
      "text/html": [
       "<div>\n",
       "<style scoped>\n",
       "    .dataframe tbody tr th:only-of-type {\n",
       "        vertical-align: middle;\n",
       "    }\n",
       "\n",
       "    .dataframe tbody tr th {\n",
       "        vertical-align: top;\n",
       "    }\n",
       "\n",
       "    .dataframe thead th {\n",
       "        text-align: right;\n",
       "    }\n",
       "</style>\n",
       "<table border=\"1\" class=\"dataframe\">\n",
       "  <thead>\n",
       "    <tr style=\"text-align: right;\">\n",
       "      <th></th>\n",
       "      <th>type</th>\n",
       "      <th>posts</th>\n",
       "    </tr>\n",
       "  </thead>\n",
       "  <tbody>\n",
       "    <tr>\n",
       "      <th>0</th>\n",
       "      <td>INFJ</td>\n",
       "      <td>'http://www.youtube.com/watch?v=qsXHcwe3krw|||...</td>\n",
       "    </tr>\n",
       "    <tr>\n",
       "      <th>1</th>\n",
       "      <td>ENTP</td>\n",
       "      <td>'I'm finding the lack of me in these posts ver...</td>\n",
       "    </tr>\n",
       "    <tr>\n",
       "      <th>2</th>\n",
       "      <td>INTP</td>\n",
       "      <td>'Good one  _____   https://www.youtube.com/wat...</td>\n",
       "    </tr>\n",
       "    <tr>\n",
       "      <th>3</th>\n",
       "      <td>INTJ</td>\n",
       "      <td>'Dear INTP,   I enjoyed our conversation the o...</td>\n",
       "    </tr>\n",
       "    <tr>\n",
       "      <th>4</th>\n",
       "      <td>ENTJ</td>\n",
       "      <td>'You're fired.|||That's another silly misconce...</td>\n",
       "    </tr>\n",
       "  </tbody>\n",
       "</table>\n",
       "</div>"
      ],
      "text/plain": [
       "   type                                              posts\n",
       "0  INFJ  'http://www.youtube.com/watch?v=qsXHcwe3krw|||...\n",
       "1  ENTP  'I'm finding the lack of me in these posts ver...\n",
       "2  INTP  'Good one  _____   https://www.youtube.com/wat...\n",
       "3  INTJ  'Dear INTP,   I enjoyed our conversation the o...\n",
       "4  ENTJ  'You're fired.|||That's another silly misconce..."
      ]
     },
     "execution_count": 2,
     "metadata": {},
     "output_type": "execute_result"
    }
   ],
   "source": [
    "# Loading the needed Libraries\n",
    "import numpy as np\n",
    "import pandas as pd\n",
    "from IPython.core.interactiveshell import InteractiveShell\n",
    "InteractiveShell.ast_node_interactivity = \"all\"\n",
    "import warnings; warnings.simplefilter('ignore')\n",
    "\n",
    "data_types = pd.read_csv('mbti_1.csv')\n",
    "data_types.head()"
   ]
  },
  {
   "cell_type": "markdown",
   "metadata": {},
   "source": [
    "In the dataset, each row represents one person. The 'type' column shows this person's personality type, and the 'posts' column shows all the posts tweeted by this person."
   ]
  },
  {
   "cell_type": "markdown",
   "metadata": {},
   "source": [
    "# Text Cleaning and Normalization"
   ]
  },
  {
   "cell_type": "markdown",
   "metadata": {},
   "source": [
    "Now, in this notebook we will divide this dataset into 5 different data frames. So it is important to start by cleaning the text and doing feature extraction at this point instead of repeating it 5 times later.\n",
    "\n",
    "Let's look at a sample of the text in the posts and see what Natural Language Processing Tools we can use."
   ]
  },
  {
   "cell_type": "code",
   "execution_count": 3,
   "metadata": {},
   "outputs": [
    {
     "data": {
      "text/plain": [
       "\"'http://www.youtube.com/watch?v=qsXHcwe3krw|||http://41.media.tumblr.com/tumblr_lfouy03PMA1qa1rooo1_500.jpg|||enfp and intj moments  https://www.youtube.com/watch?v=iz7lE1g4XM4  sportscenter not top ten plays  https://www.youtube.com/watch?v=uCdfze1etec  pranks|||What has been the most life-changing experience in your life?|||http://www.youtube.com/watch?v=vXZeYwwRDw8   http://www.youtube.com/watch?v=u8ejam5DP3E  On repeat for most of today.|||May the PerC Experience immerse you.|||The last thing my INFJ friend posted on his facebook before committing suicide the next day. Rest in peace~   http://vimeo.com/22842206|||Hello ENFJ7. Sorry to hear of your distress. It's only natural for a relationship to not be perfection all the time in every moment of existence. Try to figure the hard times as times of growth, as...|||84389  84390  http://wallpaperpassion.com/upload/23700/friendship-boy-and-girl-wallpaper.jpg  http://assets.dornob.com/wp-content/uploads/2010/04/round-home-design.jpg ...|\""
      ]
     },
     "execution_count": 3,
     "metadata": {},
     "output_type": "execute_result"
    }
   ],
   "source": [
    "data_types.loc[0,'posts'][0:1000]"
   ]
  },
  {
   "cell_type": "markdown",
   "metadata": {},
   "source": [
    "First we see that the tweets are separated by a ||| symbol. Second thing to notice is that there are a lot of links included.\n",
    "\n",
    "Let's remove the links, punctuation, seperators and make all letters lowercase."
   ]
  },
  {
   "cell_type": "code",
   "execution_count": 4,
   "metadata": {
    "collapsed": true
   },
   "outputs": [],
   "source": [
    "from string import punctuation\n",
    "import re\n",
    "\n",
    "# remove punctuation function\n",
    "def strip_punctuation(s):\n",
    "    return ''.join(c for c in s if c not in punctuation)\n",
    "\n",
    "# Remove URL's and the ||| separators\n",
    "pattern = re.compile('http[s]?://(?:[a-zA-Z]|[0-9]|[$-_@.&+]|[!*\\(\\),]|(?:%[0-9a-fA-F][0-9a-fA-F]))+')\n",
    "\n",
    "for row in range(0,len(data_types)):\n",
    "    \n",
    "    # Remove URL's\n",
    "    data_types.loc[row, 'posts'] = pattern.sub(' ', data_types.loc[row, 'posts'])\n",
    "        \n",
    "    # Replace tweet seperator with space\n",
    "    data_types.loc[row, 'posts'] = data_types.loc[row, 'posts'].replace('|||',' ')\n",
    "        \n",
    "    # remove punctuation\n",
    "    data_types.loc[row, 'posts'] = strip_punctuation(data_types.loc[row,'posts'])\n",
    "        \n",
    "    # make lowercase\n",
    "    data_types.loc[row, 'posts'] = data_types.loc[row, 'posts'].lower()\n",
    "    \n",
    "    # Remove numbers\n",
    "    data_types.loc[row, 'posts'] = ''.join([i for i in data_types.loc[row, 'posts'] if not i.isdigit()])\n",
    "    \n",
    "    # Compress large spaces into single spaces\n",
    "    data_types.loc[row, 'posts'] = ' '.join(data_types.loc[row, 'posts'].split())\n"
   ]
  },
  {
   "cell_type": "markdown",
   "metadata": {},
   "source": [
    "Let's take a look at the changes in the text"
   ]
  },
  {
   "cell_type": "code",
   "execution_count": 5,
   "metadata": {},
   "outputs": [
    {
     "data": {
      "text/plain": [
       "'enfp and intj moments sportscenter not top ten plays pranks what has been the most lifechanging experience in your life on repeat for most of today may the perc experience immerse you the last thing my infj friend posted on his facebook before committing suicide the next day rest in peace hello enfj sorry to hear of your distress its only natural for a relationship to not be perfection all the time in every moment of existence try to figure the hard times as times of growth as welcome and stuff game set match prozac wellbrutin at least thirty minutes of moving your legs and i dont mean moving them while sitting in your same desk chair weed in moderation maybe try edibles as a healthier alternative basically come up with three items youve determined that each type or whichever types you want to do would more than likely use given each types cognitive functions and whatnot when left by all things in moderation sims is indeed a video game and a good one at that note a good one at that is '"
      ]
     },
     "execution_count": 5,
     "metadata": {},
     "output_type": "execute_result"
    }
   ],
   "source": [
    "data_types.loc[0,'posts'][0:1000]"
   ]
  },
  {
   "cell_type": "markdown",
   "metadata": {},
   "source": [
    "Next, let's Tokenize, remove stop words and apply the Porter Stemmer"
   ]
  },
  {
   "cell_type": "code",
   "execution_count": 6,
   "metadata": {
    "collapsed": true
   },
   "outputs": [],
   "source": [
    "# Tokenizing\n",
    "from nltk.tokenize import word_tokenize\n",
    "for row in range(0,len(data_types)):\n",
    "    data_types.loc[row, 'posts'] = word_tokenize(data_types.loc[row, 'posts'])"
   ]
  },
  {
   "cell_type": "code",
   "execution_count": 7,
   "metadata": {
    "collapsed": true
   },
   "outputs": [],
   "source": [
    "# Removing stop words\n",
    "from nltk.corpus import stopwords\n",
    "stop = set(stopwords.words('english'))\n",
    "\n",
    "for row in range(0,len(data_types)):\n",
    "    # Remove stopwords\n",
    "    data_types.loc[row, 'posts'] = [w for w in data_types.loc[row, 'posts'] if not w in stop]"
   ]
  },
  {
   "cell_type": "code",
   "execution_count": 8,
   "metadata": {
    "collapsed": true
   },
   "outputs": [],
   "source": [
    "# Stemming\n",
    "from nltk.stem.porter import PorterStemmer   \n",
    "porter = PorterStemmer()\n",
    "\n",
    "for row in range(0,len(data_types)):\n",
    "    data_types.loc[row, 'posts'] = [porter.stem(word) for word in data_types.loc[row, 'posts']]"
   ]
  },
  {
   "cell_type": "code",
   "execution_count": 9,
   "metadata": {
    "collapsed": true
   },
   "outputs": [],
   "source": [
    "# Concatenate list to text again\n",
    "for row in range(0,len(data_types)):\n",
    "    data_types.loc[row, 'posts'] = ' '.join(data_types.loc[row, 'posts'])"
   ]
  },
  {
   "cell_type": "code",
   "execution_count": 10,
   "metadata": {},
   "outputs": [
    {
     "data": {
      "text/plain": [
       "'enfp intj moment sportscent top ten play prank lifechang experi life repeat today may perc experi immers last thing infj friend post facebook commit suicid next day rest peac hello enfj sorri hear distress natur relationship perfect time everi moment exist tri figur hard time time growth welcom stuff game set match prozac wellbrutin least thirti minut move leg dont mean move sit desk chair weed moder mayb tri edibl healthier altern basic come three item youv determin type whichev type want would like use given type cognit function whatnot left thing moder sim inde video game good one note good one somewhat subject complet promot death given sim dear enfp favorit video game grow current favorit video game cool appear late sad there someon everyon wait thought confid good thing cherish time solitud bc revel within inner world wherea time id workin enjoy time dont worri peopl alway around yo entp ladi your complimentari personalitywel hey main social outlet xbox live convers even verbal f'"
      ]
     },
     "execution_count": 10,
     "metadata": {},
     "output_type": "execute_result"
    }
   ],
   "source": [
    "data_types.loc[0,'posts'][0:1000]"
   ]
  },
  {
   "cell_type": "markdown",
   "metadata": {},
   "source": [
    "Now that we've processed the text, let's check the labels of the dataset. We will start by looking at the frequency of each personality type."
   ]
  },
  {
   "cell_type": "code",
   "execution_count": 11,
   "metadata": {},
   "outputs": [
    {
     "data": {
      "text/plain": [
       "<matplotlib.figure.Figure at 0x14f35429470>"
      ]
     },
     "execution_count": 11,
     "metadata": {},
     "output_type": "execute_result"
    },
    {
     "data": {
      "text/plain": [
       "<matplotlib.axes._subplots.AxesSubplot at 0x14f0a66e9b0>"
      ]
     },
     "execution_count": 11,
     "metadata": {},
     "output_type": "execute_result"
    },
    {
     "data": {
      "text/plain": [
       "Text(0,0.5,'Frequency')"
      ]
     },
     "execution_count": 11,
     "metadata": {},
     "output_type": "execute_result"
    },
    {
     "data": {
      "text/plain": [
       "Text(0.5,0,'Types')"
      ]
     },
     "execution_count": 11,
     "metadata": {},
     "output_type": "execute_result"
    },
    {
     "data": {
      "image/png": "[encoded data removed]",
      "text/plain": [
       "<matplotlib.figure.Figure at 0x14f35429470>"
      ]
     },
     "metadata": {},
     "output_type": "display_data"
    }
   ],
   "source": [
    "type_counts = data_types['type'].value_counts()\n",
    "\n",
    "import seaborn as sns\n",
    "import matplotlib.pyplot as plt\n",
    "\n",
    "plt.figure(figsize=(12,4))\n",
    "sns.barplot(type_counts.index, type_counts.values, alpha=0.8)\n",
    "plt.ylabel('Frequency', fontsize=12)\n",
    "plt.xlabel('Types', fontsize=12)\n",
    "plt.show()"
   ]
  },
  {
   "cell_type": "markdown",
   "metadata": {},
   "source": [
    "It seems that there is a huge variation in the frequencies of different personality types in the dataset. We are not sure how the dataset was collected but the low frequency of the letter S can be attributed to the nature of the Sensing person who is more interested in the here-and-now, and would be less likely interested in participating in a research to find hidden patterns of personality."
   ]
  },
  {
   "cell_type": "markdown",
   "metadata": {},
   "source": [
    "Let us also create a new dataframe that groups together the personalities according to the Keirsey Temperament Sorter."
   ]
  },
  {
   "cell_type": "code",
   "execution_count": 12,
   "metadata": {},
   "outputs": [
    {
     "data": {
      "text/html": [
       "<div>\n",
       "<style scoped>\n",
       "    .dataframe tbody tr th:only-of-type {\n",
       "        vertical-align: middle;\n",
       "    }\n",
       "\n",
       "    .dataframe tbody tr th {\n",
       "        vertical-align: top;\n",
       "    }\n",
       "\n",
       "    .dataframe thead th {\n",
       "        text-align: right;\n",
       "    }\n",
       "</style>\n",
       "<table border=\"1\" class=\"dataframe\">\n",
       "  <thead>\n",
       "    <tr style=\"text-align: right;\">\n",
       "      <th></th>\n",
       "      <th>type</th>\n",
       "      <th>posts</th>\n",
       "      <th>label</th>\n",
       "    </tr>\n",
       "  </thead>\n",
       "  <tbody>\n",
       "    <tr>\n",
       "      <th>0</th>\n",
       "      <td>INFJ</td>\n",
       "      <td>enfp intj moment sportscent top ten play prank...</td>\n",
       "      <td>idealist</td>\n",
       "    </tr>\n",
       "    <tr>\n",
       "      <th>1</th>\n",
       "      <td>ENTP</td>\n",
       "      <td>im find lack post alarm sex bore posit often e...</td>\n",
       "      <td>rational</td>\n",
       "    </tr>\n",
       "    <tr>\n",
       "      <th>2</th>\n",
       "      <td>INTP</td>\n",
       "      <td>good one cours say know that bless curs absolu...</td>\n",
       "      <td>rational</td>\n",
       "    </tr>\n",
       "    <tr>\n",
       "      <th>3</th>\n",
       "      <td>INTJ</td>\n",
       "      <td>dear intp enjoy convers day esoter gab natur u...</td>\n",
       "      <td>rational</td>\n",
       "    </tr>\n",
       "    <tr>\n",
       "      <th>4</th>\n",
       "      <td>ENTJ</td>\n",
       "      <td>your fire that anoth silli misconcept approach...</td>\n",
       "      <td>rational</td>\n",
       "    </tr>\n",
       "  </tbody>\n",
       "</table>\n",
       "</div>"
      ],
      "text/plain": [
       "   type                                              posts     label\n",
       "0  INFJ  enfp intj moment sportscent top ten play prank...  idealist\n",
       "1  ENTP  im find lack post alarm sex bore posit often e...  rational\n",
       "2  INTP  good one cours say know that bless curs absolu...  rational\n",
       "3  INTJ  dear intp enjoy convers day esoter gab natur u...  rational\n",
       "4  ENTJ  your fire that anoth silli misconcept approach...  rational"
      ]
     },
     "execution_count": 12,
     "metadata": {},
     "output_type": "execute_result"
    }
   ],
   "source": [
    "col_names =  ['type', 'posts', 'label']\n",
    "data_temperament = pd.DataFrame(columns = col_names)\n",
    "data_temperament.type = data_types.type\n",
    "data_temperament.posts = data_types.posts\n",
    "data_temperament.temperament = \"\"\n",
    "\n",
    "for row in range(0,len(data_temperament)):\n",
    "    \n",
    "    if data_types.loc[row,'type'] in ('INFJ', 'INFP', 'ENFJ', 'ENFP'):\n",
    "        data_temperament.loc[row,'label'] = 'idealist'\n",
    "    \n",
    "    if data_types.loc[row,'type'] in ('INTJ', 'INTP', 'ENTJ', 'ENTP'):\n",
    "        data_temperament.loc[row,'label'] = 'rational'\n",
    "    \n",
    "    if data_types.loc[row,'type'] in ('ISTJ', 'ISFJ', 'ESFJ', 'ESTJ'):\n",
    "        data_temperament.loc[row,'label'] = 'guardian'\n",
    "        \n",
    "    if data_types.loc[row,'type'] in ('ISTP', 'ISFP', 'ESTP', 'ESFP'):\n",
    "        data_temperament.loc[row,'label'] = 'artisan'\n",
    "        \n",
    "data_temperament.head()"
   ]
  },
  {
   "cell_type": "markdown",
   "metadata": {},
   "source": [
    "Now let us check the frequency of each temperament in the dataset."
   ]
  },
  {
   "cell_type": "code",
   "execution_count": 13,
   "metadata": {},
   "outputs": [
    {
     "data": {
      "text/plain": [
       "idealist    4167\n",
       "rational    3311\n",
       "artisan      745\n",
       "guardian     452\n",
       "Name: label, dtype: int64"
      ]
     },
     "execution_count": 13,
     "metadata": {},
     "output_type": "execute_result"
    },
    {
     "data": {
      "text/plain": [
       "<matplotlib.figure.Figure at 0x14f34b62a20>"
      ]
     },
     "execution_count": 13,
     "metadata": {},
     "output_type": "execute_result"
    },
    {
     "data": {
      "text/plain": [
       "<matplotlib.axes._subplots.AxesSubplot at 0x14f34b62c18>"
      ]
     },
     "execution_count": 13,
     "metadata": {},
     "output_type": "execute_result"
    },
    {
     "data": {
      "text/plain": [
       "Text(0,0.5,'Frequency')"
      ]
     },
     "execution_count": 13,
     "metadata": {},
     "output_type": "execute_result"
    },
    {
     "data": {
      "text/plain": [
       "Text(0.5,0,'Temperament')"
      ]
     },
     "execution_count": 13,
     "metadata": {},
     "output_type": "execute_result"
    },
    {
     "data": {
      "image/png": "[encoded data removed]",
      "text/plain": [
       "<matplotlib.figure.Figure at 0x14f34b62a20>"
      ]
     },
     "metadata": {},
     "output_type": "display_data"
    }
   ],
   "source": [
    "type_counts = data_temperament['label'].value_counts()\n",
    "type_counts\n",
    "plt.figure(figsize=(12,4))\n",
    "sns.barplot(type_counts.index, type_counts.values, alpha=0.8)\n",
    "plt.ylabel('Frequency', fontsize=12)\n",
    "plt.xlabel('Temperament', fontsize=12)\n",
    "plt.show()"
   ]
  },
  {
   "cell_type": "markdown",
   "metadata": {},
   "source": [
    "There is a severe imbalance in the dataset. Let's check if there are balanced instances of each of the letters."
   ]
  },
  {
   "cell_type": "markdown",
   "metadata": {},
   "source": [
    "Let's divide the dataframe into four other dataframes, each for one of the letters."
   ]
  },
  {
   "cell_type": "code",
   "execution_count": 14,
   "metadata": {},
   "outputs": [
    {
     "data": {
      "text/html": [
       "<div>\n",
       "<style scoped>\n",
       "    .dataframe tbody tr th:only-of-type {\n",
       "        vertical-align: middle;\n",
       "    }\n",
       "\n",
       "    .dataframe tbody tr th {\n",
       "        vertical-align: top;\n",
       "    }\n",
       "\n",
       "    .dataframe thead th {\n",
       "        text-align: right;\n",
       "    }\n",
       "</style>\n",
       "<table border=\"1\" class=\"dataframe\">\n",
       "  <thead>\n",
       "    <tr style=\"text-align: right;\">\n",
       "      <th></th>\n",
       "      <th>type</th>\n",
       "      <th>posts</th>\n",
       "      <th>I/E</th>\n",
       "      <th>S/N</th>\n",
       "      <th>T/F</th>\n",
       "      <th>J/P</th>\n",
       "    </tr>\n",
       "  </thead>\n",
       "  <tbody>\n",
       "    <tr>\n",
       "      <th>0</th>\n",
       "      <td>INFJ</td>\n",
       "      <td>enfp intj moment sportscent top ten play prank...</td>\n",
       "      <td>I</td>\n",
       "      <td>N</td>\n",
       "      <td>F</td>\n",
       "      <td>J</td>\n",
       "    </tr>\n",
       "    <tr>\n",
       "      <th>1</th>\n",
       "      <td>ENTP</td>\n",
       "      <td>im find lack post alarm sex bore posit often e...</td>\n",
       "      <td>E</td>\n",
       "      <td>N</td>\n",
       "      <td>T</td>\n",
       "      <td>P</td>\n",
       "    </tr>\n",
       "    <tr>\n",
       "      <th>2</th>\n",
       "      <td>INTP</td>\n",
       "      <td>good one cours say know that bless curs absolu...</td>\n",
       "      <td>I</td>\n",
       "      <td>N</td>\n",
       "      <td>T</td>\n",
       "      <td>P</td>\n",
       "    </tr>\n",
       "    <tr>\n",
       "      <th>3</th>\n",
       "      <td>INTJ</td>\n",
       "      <td>dear intp enjoy convers day esoter gab natur u...</td>\n",
       "      <td>I</td>\n",
       "      <td>N</td>\n",
       "      <td>T</td>\n",
       "      <td>J</td>\n",
       "    </tr>\n",
       "    <tr>\n",
       "      <th>4</th>\n",
       "      <td>ENTJ</td>\n",
       "      <td>your fire that anoth silli misconcept approach...</td>\n",
       "      <td>E</td>\n",
       "      <td>N</td>\n",
       "      <td>T</td>\n",
       "      <td>J</td>\n",
       "    </tr>\n",
       "  </tbody>\n",
       "</table>\n",
       "</div>"
      ],
      "text/plain": [
       "   type                                              posts I/E S/N T/F J/P\n",
       "0  INFJ  enfp intj moment sportscent top ten play prank...   I   N   F   J\n",
       "1  ENTP  im find lack post alarm sex bore posit often e...   E   N   T   P\n",
       "2  INTP  good one cours say know that bless curs absolu...   I   N   T   P\n",
       "3  INTJ  dear intp enjoy convers day esoter gab natur u...   I   N   T   J\n",
       "4  ENTJ  your fire that anoth silli misconcept approach...   E   N   T   J"
      ]
     },
     "execution_count": 14,
     "metadata": {},
     "output_type": "execute_result"
    }
   ],
   "source": [
    "col_names =  ['type', 'posts', 'I/E', 'S/N', 'T/F', 'J/P']\n",
    "tmp = pd.DataFrame(columns = col_names)\n",
    "tmp.type = data_types.type\n",
    "tmp.posts = data_types.posts\n",
    "\n",
    "for row in range(0,len(tmp)):\n",
    "    if tmp.loc[row,'type'][0] == 'I':\n",
    "        tmp.loc[row,'I/E'] = 'I'\n",
    "    else:\n",
    "        tmp.loc[row,'I/E'] = 'E'\n",
    "    \n",
    "    if tmp.loc[row,'type'][1] == 'S':\n",
    "        tmp.loc[row,'S/N'] = 'S'\n",
    "    else:\n",
    "        tmp.loc[row,'S/N'] = 'N'\n",
    "        \n",
    "    if tmp.loc[row,'type'][2] == 'T':\n",
    "        tmp.loc[row,'T/F'] = 'T'\n",
    "    else:\n",
    "        tmp.loc[row,'T/F'] = 'F'\n",
    "        \n",
    "    if tmp.loc[row,'type'][3] == 'J':\n",
    "        tmp.loc[row,'J/P'] = 'J'\n",
    "    else:\n",
    "        tmp.loc[row,'J/P'] = 'P'\n",
    "\n",
    "tmp.head()\n",
    "\n",
    "\n",
    "data_types_ie = tmp[['posts', 'I/E']]\n",
    "data_types_sn = tmp[['posts', 'S/N']]\n",
    "data_types_tf = tmp[['posts', 'T/F']]\n",
    "data_types_jp = tmp[['posts', 'J/P']]\n"
   ]
  },
  {
   "cell_type": "markdown",
   "metadata": {},
   "source": [
    " "
   ]
  },
  {
   "cell_type": "markdown",
   "metadata": {},
   "source": [
    "Let's check the I/E dataframe"
   ]
  },
  {
   "cell_type": "code",
   "execution_count": 15,
   "metadata": {},
   "outputs": [
    {
     "data": {
      "text/html": [
       "<div>\n",
       "<style scoped>\n",
       "    .dataframe tbody tr th:only-of-type {\n",
       "        vertical-align: middle;\n",
       "    }\n",
       "\n",
       "    .dataframe tbody tr th {\n",
       "        vertical-align: top;\n",
       "    }\n",
       "\n",
       "    .dataframe thead th {\n",
       "        text-align: right;\n",
       "    }\n",
       "</style>\n",
       "<table border=\"1\" class=\"dataframe\">\n",
       "  <thead>\n",
       "    <tr style=\"text-align: right;\">\n",
       "      <th></th>\n",
       "      <th>posts</th>\n",
       "      <th>label</th>\n",
       "    </tr>\n",
       "  </thead>\n",
       "  <tbody>\n",
       "    <tr>\n",
       "      <th>0</th>\n",
       "      <td>enfp intj moment sportscent top ten play prank...</td>\n",
       "      <td>I</td>\n",
       "    </tr>\n",
       "    <tr>\n",
       "      <th>1</th>\n",
       "      <td>im find lack post alarm sex bore posit often e...</td>\n",
       "      <td>E</td>\n",
       "    </tr>\n",
       "    <tr>\n",
       "      <th>2</th>\n",
       "      <td>good one cours say know that bless curs absolu...</td>\n",
       "      <td>I</td>\n",
       "    </tr>\n",
       "    <tr>\n",
       "      <th>3</th>\n",
       "      <td>dear intp enjoy convers day esoter gab natur u...</td>\n",
       "      <td>I</td>\n",
       "    </tr>\n",
       "    <tr>\n",
       "      <th>4</th>\n",
       "      <td>your fire that anoth silli misconcept approach...</td>\n",
       "      <td>E</td>\n",
       "    </tr>\n",
       "  </tbody>\n",
       "</table>\n",
       "</div>"
      ],
      "text/plain": [
       "                                               posts label\n",
       "0  enfp intj moment sportscent top ten play prank...     I\n",
       "1  im find lack post alarm sex bore posit often e...     E\n",
       "2  good one cours say know that bless curs absolu...     I\n",
       "3  dear intp enjoy convers day esoter gab natur u...     I\n",
       "4  your fire that anoth silli misconcept approach...     E"
      ]
     },
     "execution_count": 15,
     "metadata": {},
     "output_type": "execute_result"
    },
    {
     "data": {
      "text/plain": [
       "<matplotlib.figure.Figure at 0x14f0a2216d8>"
      ]
     },
     "execution_count": 15,
     "metadata": {},
     "output_type": "execute_result"
    },
    {
     "data": {
      "text/plain": [
       "<matplotlib.axes._subplots.AxesSubplot at 0x14f0a221e10>"
      ]
     },
     "execution_count": 15,
     "metadata": {},
     "output_type": "execute_result"
    },
    {
     "data": {
      "text/plain": [
       "Text(0,0.5,'Frequency')"
      ]
     },
     "execution_count": 15,
     "metadata": {},
     "output_type": "execute_result"
    },
    {
     "data": {
      "text/plain": [
       "Text(0.5,0,'Letter')"
      ]
     },
     "execution_count": 15,
     "metadata": {},
     "output_type": "execute_result"
    },
    {
     "data": {
      "image/png": "[encoded data removed]",
      "text/plain": [
       "<matplotlib.figure.Figure at 0x14f0a2216d8>"
      ]
     },
     "metadata": {},
     "output_type": "display_data"
    },
    {
     "data": {
      "text/plain": [
       "I    6676\n",
       "E    1999\n",
       "Name: label, dtype: int64"
      ]
     },
     "execution_count": 15,
     "metadata": {},
     "output_type": "execute_result"
    }
   ],
   "source": [
    "data_types_ie.columns = ['posts', 'label']\n",
    "data_types_ie.head()\n",
    "letter_counts = data_types_ie['label'].value_counts()\n",
    "plt.figure(figsize=(6,4))\n",
    "sns.barplot(letter_counts.index, letter_counts.values, alpha=0.8)\n",
    "plt.ylabel('Frequency', fontsize=12)\n",
    "plt.xlabel('Letter', fontsize=12)\n",
    "plt.show()\n",
    "letter_counts"
   ]
  },
  {
   "cell_type": "markdown",
   "metadata": {},
   "source": [
    "There is a clear imbalance in the frequency of the I and E. Let's check the S/N column."
   ]
  },
  {
   "cell_type": "code",
   "execution_count": 16,
   "metadata": {},
   "outputs": [
    {
     "data": {
      "text/html": [
       "<div>\n",
       "<style scoped>\n",
       "    .dataframe tbody tr th:only-of-type {\n",
       "        vertical-align: middle;\n",
       "    }\n",
       "\n",
       "    .dataframe tbody tr th {\n",
       "        vertical-align: top;\n",
       "    }\n",
       "\n",
       "    .dataframe thead th {\n",
       "        text-align: right;\n",
       "    }\n",
       "</style>\n",
       "<table border=\"1\" class=\"dataframe\">\n",
       "  <thead>\n",
       "    <tr style=\"text-align: right;\">\n",
       "      <th></th>\n",
       "      <th>posts</th>\n",
       "      <th>label</th>\n",
       "    </tr>\n",
       "  </thead>\n",
       "  <tbody>\n",
       "    <tr>\n",
       "      <th>0</th>\n",
       "      <td>enfp intj moment sportscent top ten play prank...</td>\n",
       "      <td>N</td>\n",
       "    </tr>\n",
       "    <tr>\n",
       "      <th>1</th>\n",
       "      <td>im find lack post alarm sex bore posit often e...</td>\n",
       "      <td>N</td>\n",
       "    </tr>\n",
       "    <tr>\n",
       "      <th>2</th>\n",
       "      <td>good one cours say know that bless curs absolu...</td>\n",
       "      <td>N</td>\n",
       "    </tr>\n",
       "    <tr>\n",
       "      <th>3</th>\n",
       "      <td>dear intp enjoy convers day esoter gab natur u...</td>\n",
       "      <td>N</td>\n",
       "    </tr>\n",
       "    <tr>\n",
       "      <th>4</th>\n",
       "      <td>your fire that anoth silli misconcept approach...</td>\n",
       "      <td>N</td>\n",
       "    </tr>\n",
       "  </tbody>\n",
       "</table>\n",
       "</div>"
      ],
      "text/plain": [
       "                                               posts label\n",
       "0  enfp intj moment sportscent top ten play prank...     N\n",
       "1  im find lack post alarm sex bore posit often e...     N\n",
       "2  good one cours say know that bless curs absolu...     N\n",
       "3  dear intp enjoy convers day esoter gab natur u...     N\n",
       "4  your fire that anoth silli misconcept approach...     N"
      ]
     },
     "execution_count": 16,
     "metadata": {},
     "output_type": "execute_result"
    },
    {
     "data": {
      "text/plain": [
       "<matplotlib.figure.Figure at 0x14f0a207400>"
      ]
     },
     "execution_count": 16,
     "metadata": {},
     "output_type": "execute_result"
    },
    {
     "data": {
      "text/plain": [
       "<matplotlib.axes._subplots.AxesSubplot at 0x14f09cf6e80>"
      ]
     },
     "execution_count": 16,
     "metadata": {},
     "output_type": "execute_result"
    },
    {
     "data": {
      "text/plain": [
       "Text(0,0.5,'Frequency')"
      ]
     },
     "execution_count": 16,
     "metadata": {},
     "output_type": "execute_result"
    },
    {
     "data": {
      "text/plain": [
       "Text(0.5,0,'Letter')"
      ]
     },
     "execution_count": 16,
     "metadata": {},
     "output_type": "execute_result"
    },
    {
     "data": {
      "image/png": "[encoded data removed]",
      "text/plain": [
       "<matplotlib.figure.Figure at 0x14f0a207400>"
      ]
     },
     "metadata": {},
     "output_type": "display_data"
    },
    {
     "data": {
      "text/plain": [
       "N    7478\n",
       "S    1197\n",
       "Name: label, dtype: int64"
      ]
     },
     "execution_count": 16,
     "metadata": {},
     "output_type": "execute_result"
    }
   ],
   "source": [
    "data_types_sn.columns = ['posts', 'label']\n",
    "data_types_sn.head()\n",
    "letter_counts = data_types_sn['label'].value_counts()\n",
    "plt.figure(figsize=(6,4))\n",
    "sns.barplot(letter_counts.index, letter_counts.values, alpha=0.8)\n",
    "plt.ylabel('Frequency', fontsize=12)\n",
    "plt.xlabel('Letter', fontsize=12)\n",
    "plt.show()\n",
    "letter_counts"
   ]
  },
  {
   "cell_type": "markdown",
   "metadata": {},
   "source": [
    "Huge imbalance between N and S. Next, let's check T and F."
   ]
  },
  {
   "cell_type": "code",
   "execution_count": 17,
   "metadata": {},
   "outputs": [
    {
     "data": {
      "text/html": [
       "<div>\n",
       "<style scoped>\n",
       "    .dataframe tbody tr th:only-of-type {\n",
       "        vertical-align: middle;\n",
       "    }\n",
       "\n",
       "    .dataframe tbody tr th {\n",
       "        vertical-align: top;\n",
       "    }\n",
       "\n",
       "    .dataframe thead th {\n",
       "        text-align: right;\n",
       "    }\n",
       "</style>\n",
       "<table border=\"1\" class=\"dataframe\">\n",
       "  <thead>\n",
       "    <tr style=\"text-align: right;\">\n",
       "      <th></th>\n",
       "      <th>posts</th>\n",
       "      <th>label</th>\n",
       "    </tr>\n",
       "  </thead>\n",
       "  <tbody>\n",
       "    <tr>\n",
       "      <th>0</th>\n",
       "      <td>enfp intj moment sportscent top ten play prank...</td>\n",
       "      <td>F</td>\n",
       "    </tr>\n",
       "    <tr>\n",
       "      <th>1</th>\n",
       "      <td>im find lack post alarm sex bore posit often e...</td>\n",
       "      <td>T</td>\n",
       "    </tr>\n",
       "    <tr>\n",
       "      <th>2</th>\n",
       "      <td>good one cours say know that bless curs absolu...</td>\n",
       "      <td>T</td>\n",
       "    </tr>\n",
       "    <tr>\n",
       "      <th>3</th>\n",
       "      <td>dear intp enjoy convers day esoter gab natur u...</td>\n",
       "      <td>T</td>\n",
       "    </tr>\n",
       "    <tr>\n",
       "      <th>4</th>\n",
       "      <td>your fire that anoth silli misconcept approach...</td>\n",
       "      <td>T</td>\n",
       "    </tr>\n",
       "  </tbody>\n",
       "</table>\n",
       "</div>"
      ],
      "text/plain": [
       "                                               posts label\n",
       "0  enfp intj moment sportscent top ten play prank...     F\n",
       "1  im find lack post alarm sex bore posit often e...     T\n",
       "2  good one cours say know that bless curs absolu...     T\n",
       "3  dear intp enjoy convers day esoter gab natur u...     T\n",
       "4  your fire that anoth silli misconcept approach...     T"
      ]
     },
     "execution_count": 17,
     "metadata": {},
     "output_type": "execute_result"
    },
    {
     "data": {
      "text/plain": [
       "<matplotlib.figure.Figure at 0x14f0a0bc4e0>"
      ]
     },
     "execution_count": 17,
     "metadata": {},
     "output_type": "execute_result"
    },
    {
     "data": {
      "text/plain": [
       "<matplotlib.axes._subplots.AxesSubplot at 0x14f09fe0c88>"
      ]
     },
     "execution_count": 17,
     "metadata": {},
     "output_type": "execute_result"
    },
    {
     "data": {
      "text/plain": [
       "Text(0,0.5,'Frequency')"
      ]
     },
     "execution_count": 17,
     "metadata": {},
     "output_type": "execute_result"
    },
    {
     "data": {
      "text/plain": [
       "Text(0.5,0,'Letter')"
      ]
     },
     "execution_count": 17,
     "metadata": {},
     "output_type": "execute_result"
    },
    {
     "data": {
      "image/png": "[encoded data removed]",
      "text/plain": [
       "<matplotlib.figure.Figure at 0x14f0a0bc4e0>"
      ]
     },
     "metadata": {},
     "output_type": "display_data"
    },
    {
     "data": {
      "text/plain": [
       "F    4694\n",
       "T    3981\n",
       "Name: label, dtype: int64"
      ]
     },
     "execution_count": 17,
     "metadata": {},
     "output_type": "execute_result"
    }
   ],
   "source": [
    "data_types_tf.columns = ['posts', 'label']\n",
    "data_types_tf.head()\n",
    "letter_counts = data_types_tf['label'].value_counts()\n",
    "plt.figure(figsize=(6,4))\n",
    "sns.barplot(letter_counts.index, letter_counts.values, alpha=0.8)\n",
    "plt.ylabel('Frequency', fontsize=12)\n",
    "plt.xlabel('Letter', fontsize=12)\n",
    "plt.show()\n",
    "letter_counts"
   ]
  },
  {
   "cell_type": "markdown",
   "metadata": {},
   "source": [
    "T and F look much more balanced. Finally, let's look at J and P."
   ]
  },
  {
   "cell_type": "code",
   "execution_count": 18,
   "metadata": {},
   "outputs": [
    {
     "data": {
      "text/html": [
       "<div>\n",
       "<style scoped>\n",
       "    .dataframe tbody tr th:only-of-type {\n",
       "        vertical-align: middle;\n",
       "    }\n",
       "\n",
       "    .dataframe tbody tr th {\n",
       "        vertical-align: top;\n",
       "    }\n",
       "\n",
       "    .dataframe thead th {\n",
       "        text-align: right;\n",
       "    }\n",
       "</style>\n",
       "<table border=\"1\" class=\"dataframe\">\n",
       "  <thead>\n",
       "    <tr style=\"text-align: right;\">\n",
       "      <th></th>\n",
       "      <th>posts</th>\n",
       "      <th>label</th>\n",
       "    </tr>\n",
       "  </thead>\n",
       "  <tbody>\n",
       "    <tr>\n",
       "      <th>0</th>\n",
       "      <td>enfp intj moment sportscent top ten play prank...</td>\n",
       "      <td>J</td>\n",
       "    </tr>\n",
       "    <tr>\n",
       "      <th>1</th>\n",
       "      <td>im find lack post alarm sex bore posit often e...</td>\n",
       "      <td>P</td>\n",
       "    </tr>\n",
       "    <tr>\n",
       "      <th>2</th>\n",
       "      <td>good one cours say know that bless curs absolu...</td>\n",
       "      <td>P</td>\n",
       "    </tr>\n",
       "    <tr>\n",
       "      <th>3</th>\n",
       "      <td>dear intp enjoy convers day esoter gab natur u...</td>\n",
       "      <td>J</td>\n",
       "    </tr>\n",
       "    <tr>\n",
       "      <th>4</th>\n",
       "      <td>your fire that anoth silli misconcept approach...</td>\n",
       "      <td>J</td>\n",
       "    </tr>\n",
       "  </tbody>\n",
       "</table>\n",
       "</div>"
      ],
      "text/plain": [
       "                                               posts label\n",
       "0  enfp intj moment sportscent top ten play prank...     J\n",
       "1  im find lack post alarm sex bore posit often e...     P\n",
       "2  good one cours say know that bless curs absolu...     P\n",
       "3  dear intp enjoy convers day esoter gab natur u...     J\n",
       "4  your fire that anoth silli misconcept approach...     J"
      ]
     },
     "execution_count": 18,
     "metadata": {},
     "output_type": "execute_result"
    },
    {
     "data": {
      "text/plain": [
       "<matplotlib.figure.Figure at 0x14f09ffda90>"
      ]
     },
     "execution_count": 18,
     "metadata": {},
     "output_type": "execute_result"
    },
    {
     "data": {
      "text/plain": [
       "<matplotlib.axes._subplots.AxesSubplot at 0x14f09fffef0>"
      ]
     },
     "execution_count": 18,
     "metadata": {},
     "output_type": "execute_result"
    },
    {
     "data": {
      "text/plain": [
       "Text(0,0.5,'Frequency')"
      ]
     },
     "execution_count": 18,
     "metadata": {},
     "output_type": "execute_result"
    },
    {
     "data": {
      "text/plain": [
       "Text(0.5,0,'Letter')"
      ]
     },
     "execution_count": 18,
     "metadata": {},
     "output_type": "execute_result"
    },
    {
     "data": {
      "image/png": "[encoded data removed]",
      "text/plain": [
       "<matplotlib.figure.Figure at 0x14f09ffda90>"
      ]
     },
     "metadata": {},
     "output_type": "display_data"
    },
    {
     "data": {
      "text/plain": [
       "P    5241\n",
       "J    3434\n",
       "Name: label, dtype: int64"
      ]
     },
     "execution_count": 18,
     "metadata": {},
     "output_type": "execute_result"
    }
   ],
   "source": [
    "data_types_jp.columns = ['posts', 'label']\n",
    "data_types_jp.head()\n",
    "letter_counts = data_types_jp['label'].value_counts()\n",
    "plt.figure(figsize=(6,4))\n",
    "sns.barplot(letter_counts.index, letter_counts.values, alpha=0.8)\n",
    "plt.ylabel('Frequency', fontsize=12)\n",
    "plt.xlabel('Letter', fontsize=12)\n",
    "plt.show()\n",
    "letter_counts"
   ]
  },
  {
   "cell_type": "markdown",
   "metadata": {},
   "source": [
    "Slightly unbalanced. P is a little more than half of J."
   ]
  },
  {
   "cell_type": "markdown",
   "metadata": {},
   "source": [
    "We will attempt to create the classification models for predicting the letters and temperaments with the datasets like this and check for the accuracy to see if we need to balance them out."
   ]
  },
  {
   "cell_type": "markdown",
   "metadata": {},
   "source": [
    "First, let's review the dataframes we have:\n",
    "\n",
    "- data_types_ie: The Introvert/Extrovert (I/E) column only.\n",
    "\n",
    "- data_types_sn: The Sensing/Intuition (S/N) column only.\n",
    "\n",
    "- data_types_tf: The Thinking/Feeling (T/F) column only.\n",
    "\n",
    "- data_types_jp: The Judging/Perceiving (J/P) column only.\n",
    "\n",
    "We will build a model for each one of these by itself to predict the personality type.\n",
    "\n",
    "And finally:\n",
    "\n",
    "- data_temperament_balanced: The dataframe for personality types grouped into temperament, where we will build a separate model.\n",
    "\n",
    "We will first create a function to test different classification models and compare the accuracy. We will also use Count Vectorizer and TFIDF for processing the text."
   ]
  },
  {
   "cell_type": "markdown",
   "metadata": {},
   "source": [
    "# Building Initial Predictive Models"
   ]
  },
  {
   "cell_type": "code",
   "execution_count": 19,
   "metadata": {},
   "outputs": [
    {
     "name": "stderr",
     "output_type": "stream",
     "text": [
      "D:\\IE_Software\\Anaconda\\lib\\site-packages\\sklearn\\cross_validation.py:41: DeprecationWarning: This module was deprecated in version 0.18 in favor of the model_selection module into which all the refactored classes and functions are moved. Also note that the interface of the new CV iterators are different from that of this module. This module will be removed in 0.20.\n",
      "  \"This module will be removed in 0.20.\", DeprecationWarning)\n"
     ]
    }
   ],
   "source": [
    "from sklearn.linear_model import PassiveAggressiveClassifier, LogisticRegression, SGDClassifier\n",
    "from sklearn.naive_bayes import MultinomialNB\n",
    "from sklearn.svm import LinearSVC\n",
    "from sklearn.feature_extraction.text import CountVectorizer\n",
    "from sklearn.feature_extraction.text import TfidfTransformer\n",
    "from sklearn.pipeline import Pipeline\n",
    "from sklearn.metrics import confusion_matrix\n",
    "from sklearn.cross_validation import cross_val_score, cross_val_predict"
   ]
  },
  {
   "cell_type": "code",
   "execution_count": 20,
   "metadata": {
    "collapsed": true
   },
   "outputs": [],
   "source": [
    "def model_testing(text):\n",
    "    LSVC = Pipeline([('vect', CountVectorizer()), ('tfidf', TfidfTransformer()), ('clf-svm', LinearSVC(multi_class=\"ovr\"))])\n",
    "    SGD  = Pipeline([('vect', CountVectorizer()), ('tfidf', TfidfTransformer()), ('clf-svm', SGDClassifier())])\n",
    "    PAC = Pipeline([('vect', CountVectorizer()), ('tfidf', TfidfTransformer()), ('clf-pac', PassiveAggressiveClassifier(max_iter=50))])\n",
    "    LR = Pipeline([('vect', CountVectorizer()), ('tfidf', TfidfTransformer()), ('clf-lr', LogisticRegression(multi_class=\"ovr\"))])\n",
    "    NB = Pipeline([('vect', CountVectorizer()), ('tfidf', TfidfTransformer()), ('clf-nb', MultinomialNB())])\n",
    "    \n",
    "    LSVC = LSVC.fit(text['posts'], text['label'])\n",
    "    PAC = PAC.fit(text['posts'], text['label'])\n",
    "    LR = LR.fit(text['posts'], text['label'])\n",
    "    NB = NB.fit(text['posts'], text['label'])\n",
    "    SGD = SGD.fit(text['posts'], text['label'])\n",
    "    \n",
    "    acc_table = pd.DataFrame()\n",
    "    acc_table['model'] = ['Linear SVC', 'Passive Aggressive Classifier', 'Logistic Regression', 'Multinomial Naive Bayes', 'Linear SGD']\n",
    "    \n",
    "    acc_table.loc[0,'accuracy'] = np.mean(cross_val_score(LSVC, text['posts'], text['label'], scoring = 'accuracy', cv=8))\n",
    "    acc_table.loc[1,'accuracy'] = np.mean(cross_val_score(PAC, text['posts'], text['label'], scoring = 'accuracy', cv=8))\n",
    "    acc_table.loc[2,'accuracy'] = np.mean(cross_val_score(LR, text['posts'], text['label'], scoring = 'accuracy', cv=8))\n",
    "    acc_table.loc[3,'accuracy'] = np.mean(cross_val_score(NB, text['posts'], text['label'], scoring = 'accuracy', cv=8))\n",
    "    acc_table.loc[4,'accuracy'] = np.mean(cross_val_score(SGD, text['posts'], text['label'], scoring = 'accuracy', cv=8))\n",
    "\n",
    "    \n",
    "    return acc_table"
   ]
  },
  {
   "cell_type": "markdown",
   "metadata": {},
   "source": [
    "Let's see which model is best for the I/E dataframe."
   ]
  },
  {
   "cell_type": "code",
   "execution_count": 21,
   "metadata": {},
   "outputs": [
    {
     "data": {
      "text/html": [
       "<div>\n",
       "<style scoped>\n",
       "    .dataframe tbody tr th:only-of-type {\n",
       "        vertical-align: middle;\n",
       "    }\n",
       "\n",
       "    .dataframe tbody tr th {\n",
       "        vertical-align: top;\n",
       "    }\n",
       "\n",
       "    .dataframe thead th {\n",
       "        text-align: right;\n",
       "    }\n",
       "</style>\n",
       "<table border=\"1\" class=\"dataframe\">\n",
       "  <thead>\n",
       "    <tr style=\"text-align: right;\">\n",
       "      <th></th>\n",
       "      <th>model</th>\n",
       "      <th>accuracy</th>\n",
       "    </tr>\n",
       "  </thead>\n",
       "  <tbody>\n",
       "    <tr>\n",
       "      <th>0</th>\n",
       "      <td>Linear SVC</td>\n",
       "      <td>0.852104</td>\n",
       "    </tr>\n",
       "    <tr>\n",
       "      <th>1</th>\n",
       "      <td>Passive Aggressive Classifier</td>\n",
       "      <td>0.834005</td>\n",
       "    </tr>\n",
       "    <tr>\n",
       "      <th>2</th>\n",
       "      <td>Logistic Regression</td>\n",
       "      <td>0.841615</td>\n",
       "    </tr>\n",
       "    <tr>\n",
       "      <th>3</th>\n",
       "      <td>Multinomial Naive Bayes</td>\n",
       "      <td>0.769568</td>\n",
       "    </tr>\n",
       "    <tr>\n",
       "      <th>4</th>\n",
       "      <td>Linear SGD</td>\n",
       "      <td>0.856140</td>\n",
       "    </tr>\n",
       "  </tbody>\n",
       "</table>\n",
       "</div>"
      ],
      "text/plain": [
       "                           model  accuracy\n",
       "0                     Linear SVC  0.852104\n",
       "1  Passive Aggressive Classifier  0.834005\n",
       "2            Logistic Regression  0.841615\n",
       "3        Multinomial Naive Bayes  0.769568\n",
       "4                     Linear SGD  0.856140"
      ]
     },
     "execution_count": 21,
     "metadata": {},
     "output_type": "execute_result"
    }
   ],
   "source": [
    "model_testing(data_types_ie)"
   ]
  },
  {
   "cell_type": "code",
   "execution_count": 22,
   "metadata": {},
   "outputs": [
    {
     "data": {
      "text/plain": [
       "posts    8675\n",
       "label    8675\n",
       "dtype: int64"
      ]
     },
     "execution_count": 22,
     "metadata": {},
     "output_type": "execute_result"
    }
   ],
   "source": [
    "data_types_ie.count()"
   ]
  },
  {
   "cell_type": "markdown",
   "metadata": {},
   "source": [
    "The best model is the Linear SGD, so we will use it for the I/E prediction.\n",
    "Let's split the dataset into training and validation to fit the model and look at the confusion matrix"
   ]
  },
  {
   "cell_type": "code",
   "execution_count": 24,
   "metadata": {},
   "outputs": [
    {
     "data": {
      "text/plain": [
       "(6940,)"
      ]
     },
     "execution_count": 24,
     "metadata": {},
     "output_type": "execute_result"
    },
    {
     "data": {
      "text/plain": [
       "(6940,)"
      ]
     },
     "execution_count": 24,
     "metadata": {},
     "output_type": "execute_result"
    },
    {
     "data": {
      "text/plain": [
       "<matplotlib.figure.Figure at 0x14f09205eb8>"
      ]
     },
     "execution_count": 24,
     "metadata": {},
     "output_type": "execute_result"
    },
    {
     "data": {
      "text/plain": [
       "<matplotlib.axes._subplots.AxesSubplot at 0x14f0f93dac8>"
      ]
     },
     "execution_count": 24,
     "metadata": {},
     "output_type": "execute_result"
    },
    {
     "data": {
      "text/plain": [
       "<matplotlib.figure.Figure at 0x14f0b0a3ba8>"
      ]
     },
     "metadata": {},
     "output_type": "display_data"
    },
    {
     "data": {
      "image/png": "[encoded data removed]",
      "text/plain": [
       "<matplotlib.figure.Figure at 0x14f09205eb8>"
      ]
     },
     "metadata": {},
     "output_type": "display_data"
    }
   ],
   "source": [
    "from sklearn.model_selection import train_test_split\n",
    "\n",
    "# create training and validation vars\n",
    "X_train, X_val, y_train, y_val = train_test_split(data_types_ie['posts'], data_types_ie['label'], test_size=0.2, random_state=42)\n",
    "X_train.shape\n",
    "y_train.shape\n",
    "\n",
    "# Fitting the Model\n",
    "ie_model = Pipeline([('vect', CountVectorizer()), ('tfidf', TfidfTransformer()), ('clf-svm', SGDClassifier())])\n",
    "ie_model = ie_model.fit(X_train, y_train)\n",
    "# Predicting on the validation set\n",
    "predicted = ie_model.predict(X_val)\n",
    "\n",
    "import seaborn as sn\n",
    "conf = confusion_matrix(y_val, predicted, labels=[\"I\", \"E\"]) \n",
    "df_cm = pd.DataFrame(conf, index = [\"I\", \"E\"], columns = [\"I\", \"E\"])\n",
    "plt.figure(figsize = (10,7))\n",
    "sn.heatmap(df_cm, annot=True, cmap='Blues', fmt='g')\n",
    "plt.show()"
   ]
  },
  {
   "cell_type": "markdown",
   "metadata": {},
   "source": [
    "The accuracy is misleading. The I's are properly predicted, but the E's are not (Nearly 50% are incorrect). This dataset needs to be balanced out."
   ]
  },
  {
   "cell_type": "markdown",
   "metadata": {},
   "source": [
    "Now let's test models for S/N dataframe."
   ]
  },
  {
   "cell_type": "code",
   "execution_count": 25,
   "metadata": {},
   "outputs": [
    {
     "data": {
      "text/html": [
       "<div>\n",
       "<style scoped>\n",
       "    .dataframe tbody tr th:only-of-type {\n",
       "        vertical-align: middle;\n",
       "    }\n",
       "\n",
       "    .dataframe tbody tr th {\n",
       "        vertical-align: top;\n",
       "    }\n",
       "\n",
       "    .dataframe thead th {\n",
       "        text-align: right;\n",
       "    }\n",
       "</style>\n",
       "<table border=\"1\" class=\"dataframe\">\n",
       "  <thead>\n",
       "    <tr style=\"text-align: right;\">\n",
       "      <th></th>\n",
       "      <th>model</th>\n",
       "      <th>accuracy</th>\n",
       "    </tr>\n",
       "  </thead>\n",
       "  <tbody>\n",
       "    <tr>\n",
       "      <th>0</th>\n",
       "      <td>Linear SVC</td>\n",
       "      <td>0.904555</td>\n",
       "    </tr>\n",
       "    <tr>\n",
       "      <th>1</th>\n",
       "      <td>Passive Aggressive Classifier</td>\n",
       "      <td>0.893717</td>\n",
       "    </tr>\n",
       "    <tr>\n",
       "      <th>2</th>\n",
       "      <td>Logistic Regression</td>\n",
       "      <td>0.882882</td>\n",
       "    </tr>\n",
       "    <tr>\n",
       "      <th>3</th>\n",
       "      <td>Multinomial Naive Bayes</td>\n",
       "      <td>0.862018</td>\n",
       "    </tr>\n",
       "    <tr>\n",
       "      <th>4</th>\n",
       "      <td>Linear SGD</td>\n",
       "      <td>0.906169</td>\n",
       "    </tr>\n",
       "  </tbody>\n",
       "</table>\n",
       "</div>"
      ],
      "text/plain": [
       "                           model  accuracy\n",
       "0                     Linear SVC  0.904555\n",
       "1  Passive Aggressive Classifier  0.893717\n",
       "2            Logistic Regression  0.882882\n",
       "3        Multinomial Naive Bayes  0.862018\n",
       "4                     Linear SGD  0.906169"
      ]
     },
     "execution_count": 25,
     "metadata": {},
     "output_type": "execute_result"
    }
   ],
   "source": [
    "model_testing(data_types_sn)"
   ]
  },
  {
   "cell_type": "markdown",
   "metadata": {},
   "source": [
    "Linear SVC Classifier gives us the best accuracy and we will use it to build a confusion matrix for S/N prediction."
   ]
  },
  {
   "cell_type": "code",
   "execution_count": 26,
   "metadata": {},
   "outputs": [
    {
     "data": {
      "text/plain": [
       "(6940,)"
      ]
     },
     "execution_count": 26,
     "metadata": {},
     "output_type": "execute_result"
    },
    {
     "data": {
      "text/plain": [
       "(6940,)"
      ]
     },
     "execution_count": 26,
     "metadata": {},
     "output_type": "execute_result"
    },
    {
     "data": {
      "text/plain": [
       "<matplotlib.figure.Figure at 0x14f13b0aef0>"
      ]
     },
     "execution_count": 26,
     "metadata": {},
     "output_type": "execute_result"
    },
    {
     "data": {
      "text/plain": [
       "<matplotlib.axes._subplots.AxesSubplot at 0x14f0926dd30>"
      ]
     },
     "execution_count": 26,
     "metadata": {},
     "output_type": "execute_result"
    },
    {
     "data": {
      "image/png": "[encoded data removed]",
      "text/plain": [
       "<matplotlib.figure.Figure at 0x14f13b0aef0>"
      ]
     },
     "metadata": {},
     "output_type": "display_data"
    }
   ],
   "source": [
    "# create training and validation vars\n",
    "X_train, X_val, y_train, y_val = train_test_split(data_types_sn['posts'], data_types_sn['label'], test_size=0.2, random_state=42)\n",
    "X_train.shape\n",
    "y_train.shape\n",
    "\n",
    "# Fitting the Model\n",
    "sn_model = Pipeline([('vect', CountVectorizer()), ('tfidf', TfidfTransformer()), ('clf-svm', LinearSVC(multi_class=\"ovr\"))])\n",
    "sn_model = sn_model.fit(X_train, y_train)\n",
    "# Predicting on the validation set\n",
    "predicted = sn_model.predict(X_val)\n",
    "\n",
    "conf = confusion_matrix(y_val, predicted, labels=[\"S\", \"N\"]) \n",
    "df_cm = pd.DataFrame(conf, index = [\"S\", \"N\"], columns = [\"S\", \"N\"])\n",
    "plt.figure(figsize = (10,7))\n",
    "sn.heatmap(df_cm, annot=True, cmap='Blues', fmt='g')\n",
    "plt.show()"
   ]
  },
  {
   "cell_type": "markdown",
   "metadata": {},
   "source": [
    "N's are properly predicted, S's are not (Less than 50%). Therefore, this dataset needs to be balanced out."
   ]
  },
  {
   "cell_type": "markdown",
   "metadata": {},
   "source": [
    "Next, the T/F dataframe."
   ]
  },
  {
   "cell_type": "code",
   "execution_count": 27,
   "metadata": {},
   "outputs": [
    {
     "data": {
      "text/html": [
       "<div>\n",
       "<style scoped>\n",
       "    .dataframe tbody tr th:only-of-type {\n",
       "        vertical-align: middle;\n",
       "    }\n",
       "\n",
       "    .dataframe tbody tr th {\n",
       "        vertical-align: top;\n",
       "    }\n",
       "\n",
       "    .dataframe thead th {\n",
       "        text-align: right;\n",
       "    }\n",
       "</style>\n",
       "<table border=\"1\" class=\"dataframe\">\n",
       "  <thead>\n",
       "    <tr style=\"text-align: right;\">\n",
       "      <th></th>\n",
       "      <th>model</th>\n",
       "      <th>accuracy</th>\n",
       "    </tr>\n",
       "  </thead>\n",
       "  <tbody>\n",
       "    <tr>\n",
       "      <th>0</th>\n",
       "      <td>Linear SVC</td>\n",
       "      <td>0.847610</td>\n",
       "    </tr>\n",
       "    <tr>\n",
       "      <th>1</th>\n",
       "      <td>Passive Aggressive Classifier</td>\n",
       "      <td>0.827552</td>\n",
       "    </tr>\n",
       "    <tr>\n",
       "      <th>2</th>\n",
       "      <td>Logistic Regression</td>\n",
       "      <td>0.860520</td>\n",
       "    </tr>\n",
       "    <tr>\n",
       "      <th>3</th>\n",
       "      <td>Multinomial Naive Bayes</td>\n",
       "      <td>0.565762</td>\n",
       "    </tr>\n",
       "    <tr>\n",
       "      <th>4</th>\n",
       "      <td>Linear SGD</td>\n",
       "      <td>0.857409</td>\n",
       "    </tr>\n",
       "  </tbody>\n",
       "</table>\n",
       "</div>"
      ],
      "text/plain": [
       "                           model  accuracy\n",
       "0                     Linear SVC  0.847610\n",
       "1  Passive Aggressive Classifier  0.827552\n",
       "2            Logistic Regression  0.860520\n",
       "3        Multinomial Naive Bayes  0.565762\n",
       "4                     Linear SGD  0.857409"
      ]
     },
     "execution_count": 27,
     "metadata": {},
     "output_type": "execute_result"
    }
   ],
   "source": [
    "model_testing(data_types_tf)"
   ]
  },
  {
   "cell_type": "markdown",
   "metadata": {},
   "source": [
    "Logistic Regression is the winner."
   ]
  },
  {
   "cell_type": "code",
   "execution_count": 28,
   "metadata": {},
   "outputs": [
    {
     "data": {
      "text/plain": [
       "(6940,)"
      ]
     },
     "execution_count": 28,
     "metadata": {},
     "output_type": "execute_result"
    },
    {
     "data": {
      "text/plain": [
       "(6940,)"
      ]
     },
     "execution_count": 28,
     "metadata": {},
     "output_type": "execute_result"
    },
    {
     "data": {
      "text/plain": [
       "<matplotlib.figure.Figure at 0x14f0f8998d0>"
      ]
     },
     "execution_count": 28,
     "metadata": {},
     "output_type": "execute_result"
    },
    {
     "data": {
      "text/plain": [
       "<matplotlib.axes._subplots.AxesSubplot at 0x14f0cac15c0>"
      ]
     },
     "execution_count": 28,
     "metadata": {},
     "output_type": "execute_result"
    },
    {
     "data": {
      "image/png": "[encoded data removed]",
      "text/plain": [
       "<matplotlib.figure.Figure at 0x14f0f8998d0>"
      ]
     },
     "metadata": {},
     "output_type": "display_data"
    }
   ],
   "source": [
    "# create training and validation vars\n",
    "X_train, X_val, y_train, y_val = train_test_split(data_types_tf['posts'], data_types_tf['label'], test_size=0.2, random_state=42)\n",
    "X_train.shape\n",
    "y_train.shape\n",
    "\n",
    "# Fitting the Model\n",
    "\n",
    "tf_model = Pipeline([('vect', CountVectorizer()), ('tfidf', TfidfTransformer()), ('clf-lr', LogisticRegression(multi_class=\"ovr\"))])\n",
    "tf_model = tf_model.fit(X_train, y_train)\n",
    "# Predicting on the validation set\n",
    "predicted = tf_model.predict(X_val)\n",
    "\n",
    "conf = confusion_matrix(y_val, predicted, labels=[\"T\", \"F\"]) \n",
    "df_cm = pd.DataFrame(conf, index = [\"T\", \"F\"], columns = [\"T\", \"F\"])\n",
    "plt.figure(figsize = (10,7))\n",
    "sn.heatmap(df_cm, annot=True, cmap='Blues', fmt='g')\n",
    "plt.show()"
   ]
  },
  {
   "cell_type": "markdown",
   "metadata": {},
   "source": [
    "This model is much better since the T and F are already balanced."
   ]
  },
  {
   "cell_type": "markdown",
   "metadata": {},
   "source": [
    "Next, let's check J/P."
   ]
  },
  {
   "cell_type": "code",
   "execution_count": 29,
   "metadata": {},
   "outputs": [
    {
     "data": {
      "text/html": [
       "<div>\n",
       "<style scoped>\n",
       "    .dataframe tbody tr th:only-of-type {\n",
       "        vertical-align: middle;\n",
       "    }\n",
       "\n",
       "    .dataframe tbody tr th {\n",
       "        vertical-align: top;\n",
       "    }\n",
       "\n",
       "    .dataframe thead th {\n",
       "        text-align: right;\n",
       "    }\n",
       "</style>\n",
       "<table border=\"1\" class=\"dataframe\">\n",
       "  <thead>\n",
       "    <tr style=\"text-align: right;\">\n",
       "      <th></th>\n",
       "      <th>model</th>\n",
       "      <th>accuracy</th>\n",
       "    </tr>\n",
       "  </thead>\n",
       "  <tbody>\n",
       "    <tr>\n",
       "      <th>0</th>\n",
       "      <td>Linear SVC</td>\n",
       "      <td>0.785705</td>\n",
       "    </tr>\n",
       "    <tr>\n",
       "      <th>1</th>\n",
       "      <td>Passive Aggressive Classifier</td>\n",
       "      <td>0.758726</td>\n",
       "    </tr>\n",
       "    <tr>\n",
       "      <th>2</th>\n",
       "      <td>Logistic Regression</td>\n",
       "      <td>0.802190</td>\n",
       "    </tr>\n",
       "    <tr>\n",
       "      <th>3</th>\n",
       "      <td>Multinomial Naive Bayes</td>\n",
       "      <td>0.604150</td>\n",
       "    </tr>\n",
       "    <tr>\n",
       "      <th>4</th>\n",
       "      <td>Linear SGD</td>\n",
       "      <td>0.795388</td>\n",
       "    </tr>\n",
       "  </tbody>\n",
       "</table>\n",
       "</div>"
      ],
      "text/plain": [
       "                           model  accuracy\n",
       "0                     Linear SVC  0.785705\n",
       "1  Passive Aggressive Classifier  0.758726\n",
       "2            Logistic Regression  0.802190\n",
       "3        Multinomial Naive Bayes  0.604150\n",
       "4                     Linear SGD  0.795388"
      ]
     },
     "execution_count": 29,
     "metadata": {},
     "output_type": "execute_result"
    }
   ],
   "source": [
    "model_testing(data_types_jp)"
   ]
  },
  {
   "cell_type": "markdown",
   "metadata": {},
   "source": [
    "Much lower accuracy, but again Logistic Regression is the winner."
   ]
  },
  {
   "cell_type": "code",
   "execution_count": 30,
   "metadata": {},
   "outputs": [
    {
     "data": {
      "text/plain": [
       "(6940,)"
      ]
     },
     "execution_count": 30,
     "metadata": {},
     "output_type": "execute_result"
    },
    {
     "data": {
      "text/plain": [
       "(6940,)"
      ]
     },
     "execution_count": 30,
     "metadata": {},
     "output_type": "execute_result"
    },
    {
     "data": {
      "text/plain": [
       "<matplotlib.figure.Figure at 0x14f1c9c3e10>"
      ]
     },
     "execution_count": 30,
     "metadata": {},
     "output_type": "execute_result"
    },
    {
     "data": {
      "text/plain": [
       "<matplotlib.axes._subplots.AxesSubplot at 0x14f1c9b5940>"
      ]
     },
     "execution_count": 30,
     "metadata": {},
     "output_type": "execute_result"
    },
    {
     "data": {
      "image/png": "[encoded data removed]",
      "text/plain": [
       "<matplotlib.figure.Figure at 0x14f1c9c3e10>"
      ]
     },
     "metadata": {},
     "output_type": "display_data"
    }
   ],
   "source": [
    "# create training and validation vars\n",
    "X_train, X_val, y_train, y_val = train_test_split(data_types_jp['posts'], data_types_jp['label'], test_size=0.2, random_state=42)\n",
    "X_train.shape\n",
    "y_train.shape\n",
    "\n",
    "# Fitting the Model\n",
    "\n",
    "jp_model = Pipeline([('vect', CountVectorizer()), ('tfidf', TfidfTransformer()), ('clf-lr', LogisticRegression(multi_class=\"ovr\"))])\n",
    "jp_model = jp_model.fit(X_train, y_train)\n",
    "\n",
    "# Predicting on the validation set\n",
    "predicted = jp_model.predict(X_val)\n",
    "\n",
    "conf = confusion_matrix(y_val, predicted, labels=[\"J\", \"P\"]) \n",
    "df_cm = pd.DataFrame(conf, index = [\"J\", \"P\"], columns = [\"J\", \"P\"])\n",
    "plt.figure(figsize = (10,7))\n",
    "sn.heatmap(df_cm, annot=True, cmap='Blues', fmt='g')\n",
    "plt.show()"
   ]
  },
  {
   "cell_type": "markdown",
   "metadata": {},
   "source": [
    "60% of the J's are predicted correctly. We will therefore try to balance out this dataset."
   ]
  },
  {
   "cell_type": "markdown",
   "metadata": {},
   "source": [
    "Finally, our temperament dataframe."
   ]
  },
  {
   "cell_type": "code",
   "execution_count": 31,
   "metadata": {},
   "outputs": [
    {
     "data": {
      "text/html": [
       "<div>\n",
       "<style scoped>\n",
       "    .dataframe tbody tr th:only-of-type {\n",
       "        vertical-align: middle;\n",
       "    }\n",
       "\n",
       "    .dataframe tbody tr th {\n",
       "        vertical-align: top;\n",
       "    }\n",
       "\n",
       "    .dataframe thead th {\n",
       "        text-align: right;\n",
       "    }\n",
       "</style>\n",
       "<table border=\"1\" class=\"dataframe\">\n",
       "  <thead>\n",
       "    <tr style=\"text-align: right;\">\n",
       "      <th></th>\n",
       "      <th>model</th>\n",
       "      <th>accuracy</th>\n",
       "    </tr>\n",
       "  </thead>\n",
       "  <tbody>\n",
       "    <tr>\n",
       "      <th>0</th>\n",
       "      <td>Linear SVC</td>\n",
       "      <td>0.792970</td>\n",
       "    </tr>\n",
       "    <tr>\n",
       "      <th>1</th>\n",
       "      <td>Passive Aggressive Classifier</td>\n",
       "      <td>0.768072</td>\n",
       "    </tr>\n",
       "    <tr>\n",
       "      <th>2</th>\n",
       "      <td>Logistic Regression</td>\n",
       "      <td>0.783054</td>\n",
       "    </tr>\n",
       "    <tr>\n",
       "      <th>3</th>\n",
       "      <td>Multinomial Naive Bayes</td>\n",
       "      <td>0.484956</td>\n",
       "    </tr>\n",
       "    <tr>\n",
       "      <th>4</th>\n",
       "      <td>Linear SGD</td>\n",
       "      <td>0.800347</td>\n",
       "    </tr>\n",
       "  </tbody>\n",
       "</table>\n",
       "</div>"
      ],
      "text/plain": [
       "                           model  accuracy\n",
       "0                     Linear SVC  0.792970\n",
       "1  Passive Aggressive Classifier  0.768072\n",
       "2            Logistic Regression  0.783054\n",
       "3        Multinomial Naive Bayes  0.484956\n",
       "4                     Linear SGD  0.800347"
      ]
     },
     "execution_count": 31,
     "metadata": {},
     "output_type": "execute_result"
    }
   ],
   "source": [
    "model_testing(data_temperament)"
   ]
  },
  {
   "cell_type": "markdown",
   "metadata": {},
   "source": [
    "Linear SGD is the winner."
   ]
  },
  {
   "cell_type": "code",
   "execution_count": 32,
   "metadata": {},
   "outputs": [
    {
     "data": {
      "text/plain": [
       "(6940,)"
      ]
     },
     "execution_count": 32,
     "metadata": {},
     "output_type": "execute_result"
    },
    {
     "data": {
      "text/plain": [
       "(6940,)"
      ]
     },
     "execution_count": 32,
     "metadata": {},
     "output_type": "execute_result"
    },
    {
     "data": {
      "text/plain": [
       "<matplotlib.figure.Figure at 0x14f09a8bf28>"
      ]
     },
     "execution_count": 32,
     "metadata": {},
     "output_type": "execute_result"
    },
    {
     "data": {
      "text/plain": [
       "<matplotlib.axes._subplots.AxesSubplot at 0x14f13c572e8>"
      ]
     },
     "execution_count": 32,
     "metadata": {},
     "output_type": "execute_result"
    },
    {
     "data": {
      "image/png": "[encoded data removed]",
      "text/plain": [
       "<matplotlib.figure.Figure at 0x14f09a8bf28>"
      ]
     },
     "metadata": {},
     "output_type": "display_data"
    }
   ],
   "source": [
    "# create training and validation vars\n",
    "X_train, X_val, y_train, y_val = train_test_split(data_temperament['posts'], data_temperament['label'], test_size=0.2, random_state=42)\n",
    "X_train.shape\n",
    "y_train.shape\n",
    "\n",
    "# Fitting the Model\n",
    "\n",
    "temperament_model = Pipeline([('vect', CountVectorizer()), ('tfidf', TfidfTransformer()), ('clf-svm', SGDClassifier())])\n",
    "temperament_model = temperament_model.fit(X_train, y_train)\n",
    "\n",
    "# Predicting on the validation set\n",
    "predicted = temperament_model.predict(X_val)\n",
    "\n",
    "conf = confusion_matrix(y_val, predicted, labels=[\"rational\", \"idealist\", \"guardian\", \"artisan\"]) \n",
    "df_cm = pd.DataFrame(conf, index = [\"rational\", \"idealist\", \"guardian\", \"artisan\"], columns = [\"rational\", \"idealist\", \"guardian\", \"artisan\"])\n",
    "plt.figure(figsize = (10,7))\n",
    "sn.heatmap(df_cm, annot=True, cmap='Blues', fmt='g')\n",
    "plt.show()"
   ]
  },
  {
   "cell_type": "markdown",
   "metadata": {},
   "source": [
    "Classifying Rational and Idealist is good, and this is expected as there is a lot of training data for it. But classifying artisan and guardian is very bad. We, therefore, need to balance out this dataset as well."
   ]
  },
  {
   "cell_type": "markdown",
   "metadata": {},
   "source": [
    " "
   ]
  },
  {
   "cell_type": "markdown",
   "metadata": {},
   "source": [
    "# Balancing the Datasets"
   ]
  },
  {
   "cell_type": "markdown",
   "metadata": {},
   "source": [
    "We tried building the model with the imbalanced datasets. Let's try balancing the datasets now."
   ]
  },
  {
   "cell_type": "markdown",
   "metadata": {},
   "source": [
    "Let's start with the I/E dataset. Let's aim at having 4000 rows of each by duplicating the E's and reducing the I's."
   ]
  },
  {
   "cell_type": "code",
   "execution_count": 33,
   "metadata": {},
   "outputs": [
    {
     "data": {
      "text/plain": [
       "(4000, 2)"
      ]
     },
     "execution_count": 33,
     "metadata": {},
     "output_type": "execute_result"
    },
    {
     "data": {
      "text/plain": [
       "(4000, 2)"
      ]
     },
     "execution_count": 33,
     "metadata": {},
     "output_type": "execute_result"
    },
    {
     "data": {
      "text/html": [
       "<div>\n",
       "<style scoped>\n",
       "    .dataframe tbody tr th:only-of-type {\n",
       "        vertical-align: middle;\n",
       "    }\n",
       "\n",
       "    .dataframe tbody tr th {\n",
       "        vertical-align: top;\n",
       "    }\n",
       "\n",
       "    .dataframe thead th {\n",
       "        text-align: right;\n",
       "    }\n",
       "</style>\n",
       "<table border=\"1\" class=\"dataframe\">\n",
       "  <thead>\n",
       "    <tr style=\"text-align: right;\">\n",
       "      <th></th>\n",
       "      <th>posts</th>\n",
       "      <th>label</th>\n",
       "    </tr>\n",
       "  </thead>\n",
       "  <tbody>\n",
       "    <tr>\n",
       "      <th>2</th>\n",
       "      <td>good one cours say know that bless curs absolu...</td>\n",
       "      <td>I</td>\n",
       "    </tr>\n",
       "    <tr>\n",
       "      <th>3</th>\n",
       "      <td>dear intp enjoy convers day esoter gab natur u...</td>\n",
       "      <td>I</td>\n",
       "    </tr>\n",
       "    <tr>\n",
       "      <th>5</th>\n",
       "      <td>scienc perfect scientist claim scientif inform...</td>\n",
       "      <td>I</td>\n",
       "    </tr>\n",
       "    <tr>\n",
       "      <th>6</th>\n",
       "      <td>cant draw nail haha done profession nail ye ge...</td>\n",
       "      <td>I</td>\n",
       "    </tr>\n",
       "    <tr>\n",
       "      <th>8</th>\n",
       "      <td>im sure that good question distinct two depend...</td>\n",
       "      <td>I</td>\n",
       "    </tr>\n",
       "  </tbody>\n",
       "</table>\n",
       "</div>"
      ],
      "text/plain": [
       "                                               posts label\n",
       "2  good one cours say know that bless curs absolu...     I\n",
       "3  dear intp enjoy convers day esoter gab natur u...     I\n",
       "5  scienc perfect scientist claim scientif inform...     I\n",
       "6  cant draw nail haha done profession nail ye ge...     I\n",
       "8  im sure that good question distinct two depend...     I"
      ]
     },
     "execution_count": 33,
     "metadata": {},
     "output_type": "execute_result"
    },
    {
     "data": {
      "text/plain": [
       "<matplotlib.figure.Figure at 0x14f1222be80>"
      ]
     },
     "execution_count": 33,
     "metadata": {},
     "output_type": "execute_result"
    },
    {
     "data": {
      "text/plain": [
       "<matplotlib.axes._subplots.AxesSubplot at 0x14f094dab38>"
      ]
     },
     "execution_count": 33,
     "metadata": {},
     "output_type": "execute_result"
    },
    {
     "data": {
      "text/plain": [
       "Text(0,0.5,'Frequency')"
      ]
     },
     "execution_count": 33,
     "metadata": {},
     "output_type": "execute_result"
    },
    {
     "data": {
      "text/plain": [
       "Text(0.5,0,'Letter')"
      ]
     },
     "execution_count": 33,
     "metadata": {},
     "output_type": "execute_result"
    },
    {
     "data": {
      "image/png": "[encoded data removed]",
      "text/plain": [
       "<matplotlib.figure.Figure at 0x14f1222be80>"
      ]
     },
     "metadata": {},
     "output_type": "display_data"
    },
    {
     "data": {
      "text/plain": [
       "E    4000\n",
       "I    4000\n",
       "Name: label, dtype: int64"
      ]
     },
     "execution_count": 33,
     "metadata": {},
     "output_type": "execute_result"
    }
   ],
   "source": [
    "i = data_types_ie.loc[data_types_ie['label'] == 'I']\n",
    "e = data_types_ie.loc[data_types_ie['label'] == 'E']\n",
    "\n",
    "# we remove 2676 rows from the I's\n",
    "remove_n = 2676\n",
    "drop_indices = np.random.choice(i.index, remove_n, replace=False)\n",
    "i = i.drop(drop_indices)\n",
    "\n",
    "# we add 2001 rows for the E's\n",
    "e = e.append(e)\n",
    "e = e.reset_index(drop=True)\n",
    "add_n = 2\n",
    "add_indices = np.random.choice(e.index, add_n, replace=True)\n",
    "e = e.append(e.loc[add_indices])\n",
    "\n",
    "i.shape\n",
    "e.shape\n",
    "\n",
    "data_types_ie_balanced = i\n",
    "data_types_ie_balanced = data_types_ie_balanced.append(e)\n",
    "\n",
    "data_types_ie_balanced.head()\n",
    "letter_counts = data_types_ie_balanced['label'].value_counts()\n",
    "plt.figure(figsize=(6,4))\n",
    "sns.barplot(letter_counts.index, letter_counts.values, alpha=0.8)\n",
    "plt.ylabel('Frequency', fontsize=12)\n",
    "plt.xlabel('Letter', fontsize=12)\n",
    "plt.show()\n",
    "letter_counts"
   ]
  },
  {
   "cell_type": "markdown",
   "metadata": {},
   "source": [
    "Now the I/E dataframe is balanced, let's do the same same with the others."
   ]
  },
  {
   "cell_type": "markdown",
   "metadata": {},
   "source": [
    "For the S/N dataframe, let's aim to have 3000 rows for each."
   ]
  },
  {
   "cell_type": "code",
   "execution_count": 34,
   "metadata": {},
   "outputs": [
    {
     "data": {
      "text/plain": [
       "(3000, 2)"
      ]
     },
     "execution_count": 34,
     "metadata": {},
     "output_type": "execute_result"
    },
    {
     "data": {
      "text/plain": [
       "(3000, 2)"
      ]
     },
     "execution_count": 34,
     "metadata": {},
     "output_type": "execute_result"
    },
    {
     "data": {
      "text/html": [
       "<div>\n",
       "<style scoped>\n",
       "    .dataframe tbody tr th:only-of-type {\n",
       "        vertical-align: middle;\n",
       "    }\n",
       "\n",
       "    .dataframe tbody tr th {\n",
       "        vertical-align: top;\n",
       "    }\n",
       "\n",
       "    .dataframe thead th {\n",
       "        text-align: right;\n",
       "    }\n",
       "</style>\n",
       "<table border=\"1\" class=\"dataframe\">\n",
       "  <thead>\n",
       "    <tr style=\"text-align: right;\">\n",
       "      <th></th>\n",
       "      <th>posts</th>\n",
       "      <th>label</th>\n",
       "    </tr>\n",
       "  </thead>\n",
       "  <tbody>\n",
       "    <tr>\n",
       "      <th>0</th>\n",
       "      <td>paint without number id guess istp best bud es...</td>\n",
       "      <td>S</td>\n",
       "    </tr>\n",
       "    <tr>\n",
       "      <th>1</th>\n",
       "      <td>got ive read enneagram im though read somewher...</td>\n",
       "      <td>S</td>\n",
       "    </tr>\n",
       "    <tr>\n",
       "      <th>2</th>\n",
       "      <td>love feel affection one love care care deepli ...</td>\n",
       "      <td>S</td>\n",
       "    </tr>\n",
       "    <tr>\n",
       "      <th>3</th>\n",
       "      <td>im current root around forum look place rant t...</td>\n",
       "      <td>S</td>\n",
       "    </tr>\n",
       "    <tr>\n",
       "      <th>4</th>\n",
       "      <td>true sadli mani felt like particip itunsur cou...</td>\n",
       "      <td>S</td>\n",
       "    </tr>\n",
       "  </tbody>\n",
       "</table>\n",
       "</div>"
      ],
      "text/plain": [
       "                                               posts label\n",
       "0  paint without number id guess istp best bud es...     S\n",
       "1  got ive read enneagram im though read somewher...     S\n",
       "2  love feel affection one love care care deepli ...     S\n",
       "3  im current root around forum look place rant t...     S\n",
       "4  true sadli mani felt like particip itunsur cou...     S"
      ]
     },
     "execution_count": 34,
     "metadata": {},
     "output_type": "execute_result"
    },
    {
     "data": {
      "text/plain": [
       "<matplotlib.figure.Figure at 0x14f094ec748>"
      ]
     },
     "execution_count": 34,
     "metadata": {},
     "output_type": "execute_result"
    },
    {
     "data": {
      "text/plain": [
       "<matplotlib.axes._subplots.AxesSubplot at 0x14f18f66f28>"
      ]
     },
     "execution_count": 34,
     "metadata": {},
     "output_type": "execute_result"
    },
    {
     "data": {
      "text/plain": [
       "Text(0,0.5,'Frequency')"
      ]
     },
     "execution_count": 34,
     "metadata": {},
     "output_type": "execute_result"
    },
    {
     "data": {
      "text/plain": [
       "Text(0.5,0,'Letter')"
      ]
     },
     "execution_count": 34,
     "metadata": {},
     "output_type": "execute_result"
    },
    {
     "data": {
      "image/png": "[encoded data removed]",
      "text/plain": [
       "<matplotlib.figure.Figure at 0x14f094ec748>"
      ]
     },
     "metadata": {},
     "output_type": "display_data"
    },
    {
     "data": {
      "text/plain": [
       "S    3000\n",
       "N    3000\n",
       "Name: label, dtype: int64"
      ]
     },
     "execution_count": 34,
     "metadata": {},
     "output_type": "execute_result"
    }
   ],
   "source": [
    "s = data_types_sn.loc[data_types_sn['label'] == 'S']\n",
    "n = data_types_sn.loc[data_types_sn['label'] == 'N']\n",
    "\n",
    "# we remove 4478 rows from the N's\n",
    "remove_n = 4478\n",
    "drop_indices = np.random.choice(n.index, remove_n, replace=False)\n",
    "n = n.drop(drop_indices)\n",
    "\n",
    "# we add 1803 rows for the E's\n",
    "s = s.append(s)\n",
    "s = s.reset_index(drop=True)\n",
    "add_n = 606\n",
    "add_indices = np.random.choice(s.index, add_n, replace=True)\n",
    "s = s.append(s.loc[add_indices])\n",
    "\n",
    "s.shape\n",
    "n.shape\n",
    "\n",
    "data_types_sn_balanced = s\n",
    "data_types_sn_balanced = data_types_sn_balanced.append(n)\n",
    "\n",
    "data_types_sn_balanced.head()\n",
    "letter_counts = data_types_sn_balanced['label'].value_counts()\n",
    "plt.figure(figsize=(6,4))\n",
    "sns.barplot(letter_counts.index, letter_counts.values, alpha=0.8)\n",
    "plt.ylabel('Frequency', fontsize=12)\n",
    "plt.xlabel('Letter', fontsize=12)\n",
    "plt.show()\n",
    "letter_counts"
   ]
  },
  {
   "cell_type": "markdown",
   "metadata": {
    "collapsed": true
   },
   "source": [
    "We can leave the T/F column without balancing since there are enough instances from both."
   ]
  },
  {
   "cell_type": "markdown",
   "metadata": {
    "collapsed": true
   },
   "source": [
    "Finally, let's balance the J/P dataframe. Let's aim at having 3434 rows, which the current number of J's. So we just need to remove 1807 from the P's."
   ]
  },
  {
   "cell_type": "code",
   "execution_count": 35,
   "metadata": {},
   "outputs": [
    {
     "data": {
      "text/plain": [
       "(3434, 2)"
      ]
     },
     "execution_count": 35,
     "metadata": {},
     "output_type": "execute_result"
    },
    {
     "data": {
      "text/plain": [
       "(3434, 2)"
      ]
     },
     "execution_count": 35,
     "metadata": {},
     "output_type": "execute_result"
    },
    {
     "data": {
      "text/html": [
       "<div>\n",
       "<style scoped>\n",
       "    .dataframe tbody tr th:only-of-type {\n",
       "        vertical-align: middle;\n",
       "    }\n",
       "\n",
       "    .dataframe tbody tr th {\n",
       "        vertical-align: top;\n",
       "    }\n",
       "\n",
       "    .dataframe thead th {\n",
       "        text-align: right;\n",
       "    }\n",
       "</style>\n",
       "<table border=\"1\" class=\"dataframe\">\n",
       "  <thead>\n",
       "    <tr style=\"text-align: right;\">\n",
       "      <th></th>\n",
       "      <th>posts</th>\n",
       "      <th>label</th>\n",
       "    </tr>\n",
       "  </thead>\n",
       "  <tbody>\n",
       "    <tr>\n",
       "      <th>0</th>\n",
       "      <td>enfp intj moment sportscent top ten play prank...</td>\n",
       "      <td>J</td>\n",
       "    </tr>\n",
       "    <tr>\n",
       "      <th>3</th>\n",
       "      <td>dear intp enjoy convers day esoter gab natur u...</td>\n",
       "      <td>J</td>\n",
       "    </tr>\n",
       "    <tr>\n",
       "      <th>4</th>\n",
       "      <td>your fire that anoth silli misconcept approach...</td>\n",
       "      <td>J</td>\n",
       "    </tr>\n",
       "    <tr>\n",
       "      <th>5</th>\n",
       "      <td>scienc perfect scientist claim scientif inform...</td>\n",
       "      <td>J</td>\n",
       "    </tr>\n",
       "    <tr>\n",
       "      <th>6</th>\n",
       "      <td>cant draw nail haha done profession nail ye ge...</td>\n",
       "      <td>J</td>\n",
       "    </tr>\n",
       "  </tbody>\n",
       "</table>\n",
       "</div>"
      ],
      "text/plain": [
       "                                               posts label\n",
       "0  enfp intj moment sportscent top ten play prank...     J\n",
       "3  dear intp enjoy convers day esoter gab natur u...     J\n",
       "4  your fire that anoth silli misconcept approach...     J\n",
       "5  scienc perfect scientist claim scientif inform...     J\n",
       "6  cant draw nail haha done profession nail ye ge...     J"
      ]
     },
     "execution_count": 35,
     "metadata": {},
     "output_type": "execute_result"
    },
    {
     "data": {
      "text/plain": [
       "<matplotlib.figure.Figure at 0x14f0f947e48>"
      ]
     },
     "execution_count": 35,
     "metadata": {},
     "output_type": "execute_result"
    },
    {
     "data": {
      "text/plain": [
       "<matplotlib.axes._subplots.AxesSubplot at 0x14f15ca8c88>"
      ]
     },
     "execution_count": 35,
     "metadata": {},
     "output_type": "execute_result"
    },
    {
     "data": {
      "text/plain": [
       "Text(0,0.5,'Frequency')"
      ]
     },
     "execution_count": 35,
     "metadata": {},
     "output_type": "execute_result"
    },
    {
     "data": {
      "text/plain": [
       "Text(0.5,0,'Letter')"
      ]
     },
     "execution_count": 35,
     "metadata": {},
     "output_type": "execute_result"
    },
    {
     "data": {
      "image/png": "[encoded data removed]",
      "text/plain": [
       "<matplotlib.figure.Figure at 0x14f0f947e48>"
      ]
     },
     "metadata": {},
     "output_type": "display_data"
    },
    {
     "data": {
      "text/plain": [
       "J    3434\n",
       "P    3434\n",
       "Name: label, dtype: int64"
      ]
     },
     "execution_count": 35,
     "metadata": {},
     "output_type": "execute_result"
    }
   ],
   "source": [
    "j = data_types_jp.loc[data_types_jp['label'] == 'J']\n",
    "p = data_types_jp.loc[data_types_jp['label'] == 'P']\n",
    "\n",
    "# we remove 1807 rows from the P's\n",
    "remove_n = 1807\n",
    "drop_indices = np.random.choice(p.index, remove_n, replace=False)\n",
    "p = p.drop(drop_indices)\n",
    "\n",
    "p.shape\n",
    "j.shape\n",
    "\n",
    "data_types_jp_balanced = j\n",
    "data_types_jp_balanced = data_types_jp_balanced.append(p)\n",
    "\n",
    "data_types_jp_balanced.head()\n",
    "letter_counts = data_types_jp_balanced['label'].value_counts()\n",
    "plt.figure(figsize=(6,4))\n",
    "sns.barplot(letter_counts.index, letter_counts.values, alpha=0.8)\n",
    "plt.ylabel('Frequency', fontsize=12)\n",
    "plt.xlabel('Letter', fontsize=12)\n",
    "plt.show()\n",
    "letter_counts"
   ]
  },
  {
   "cell_type": "markdown",
   "metadata": {},
   "source": [
    " "
   ]
  },
  {
   "cell_type": "markdown",
   "metadata": {},
   "source": [
    "Balancing the Temperament Dataset. We will aim at having 1000 persons from every temperament."
   ]
  },
  {
   "cell_type": "code",
   "execution_count": 36,
   "metadata": {},
   "outputs": [
    {
     "data": {
      "text/plain": [
       "(4000, 3)"
      ]
     },
     "execution_count": 36,
     "metadata": {},
     "output_type": "execute_result"
    },
    {
     "data": {
      "text/plain": [
       "<matplotlib.figure.Figure at 0x14f10fbd9b0>"
      ]
     },
     "execution_count": 36,
     "metadata": {},
     "output_type": "execute_result"
    },
    {
     "data": {
      "text/plain": [
       "<matplotlib.axes._subplots.AxesSubplot at 0x14f0fa07f60>"
      ]
     },
     "execution_count": 36,
     "metadata": {},
     "output_type": "execute_result"
    },
    {
     "data": {
      "text/plain": [
       "Text(0,0.5,'Frequency')"
      ]
     },
     "execution_count": 36,
     "metadata": {},
     "output_type": "execute_result"
    },
    {
     "data": {
      "text/plain": [
       "Text(0.5,0,'Temperament')"
      ]
     },
     "execution_count": 36,
     "metadata": {},
     "output_type": "execute_result"
    },
    {
     "data": {
      "image/png": "[encoded data removed]",
      "text/plain": [
       "<matplotlib.figure.Figure at 0x14f10fbd9b0>"
      ]
     },
     "metadata": {},
     "output_type": "display_data"
    }
   ],
   "source": [
    "idealists = data_temperament.loc[data_temperament['label'] == 'idealist']\n",
    "guardians = data_temperament.loc[data_temperament['label'] == 'guardian']\n",
    "rationals = data_temperament.loc[data_temperament['label'] == 'rational']\n",
    "artisans = data_temperament.loc[data_temperament['label'] == 'artisan']\n",
    "np.random.seed(10)\n",
    "\n",
    "# For idealists we remove 3167 rows\n",
    "remove_n = 3167\n",
    "drop_indices = np.random.choice(idealists.index, remove_n, replace=False)\n",
    "idealists = idealists.drop(drop_indices)\n",
    "\n",
    "# For rationals we remove 2311 rows\n",
    "remove_n = 2311\n",
    "drop_indices = np.random.choice(rationals.index, remove_n, replace=False)\n",
    "rationals = rationals.drop(drop_indices)\n",
    "\n",
    "# For guardians we duplicate the rows then add another 96\n",
    "guardians = guardians.append(guardians)\n",
    "guardians = guardians.reset_index(drop=True)\n",
    "add_n = 96\n",
    "add_indices = np.random.choice(guardians.index, add_n, replace=True)\n",
    "guardians = guardians.append(guardians.loc[add_indices])\n",
    "\n",
    "# For artisans we remove 490 rows\n",
    "artisans = artisans.append(artisans)\n",
    "artisans = artisans.reset_index(drop=True)\n",
    "remove_n = 490\n",
    "drop_indices = np.random.choice(artisans.index, remove_n, replace=False)\n",
    "artisans = artisans.drop(drop_indices)\n",
    "\n",
    "\n",
    "data_temperament_balanced = idealists\n",
    "data_temperament_balanced = data_temperament_balanced.append(rationals)\n",
    "data_temperament_balanced = data_temperament_balanced.append(guardians)\n",
    "data_temperament_balanced = data_temperament_balanced.append(artisans)\n",
    "data_temperament_balanced = data_temperament_balanced.reset_index(drop=True)\n",
    "\n",
    "data_temperament_balanced.shape\n",
    "\n",
    "type_counts = data_temperament_balanced['label'].value_counts()\n",
    "\n",
    "plt.figure(figsize=(12,4))\n",
    "sns.barplot(type_counts.index, type_counts.values, alpha=0.8)\n",
    "plt.ylabel('Frequency', fontsize=12)\n",
    "plt.xlabel('Temperament', fontsize=12)\n",
    "plt.show()"
   ]
  },
  {
   "cell_type": "markdown",
   "metadata": {},
   "source": [
    "Let's build the classification models once more as we did previously, but this time with the balanced datasets."
   ]
  },
  {
   "cell_type": "markdown",
   "metadata": {},
   "source": [
    "# Building Models with Balanced Datasets"
   ]
  },
  {
   "cell_type": "markdown",
   "metadata": {},
   "source": [
    " "
   ]
  },
  {
   "cell_type": "markdown",
   "metadata": {},
   "source": [
    "Let's see which model is best for the I/E dataframe."
   ]
  },
  {
   "cell_type": "code",
   "execution_count": 37,
   "metadata": {},
   "outputs": [
    {
     "data": {
      "text/html": [
       "<div>\n",
       "<style scoped>\n",
       "    .dataframe tbody tr th:only-of-type {\n",
       "        vertical-align: middle;\n",
       "    }\n",
       "\n",
       "    .dataframe tbody tr th {\n",
       "        vertical-align: top;\n",
       "    }\n",
       "\n",
       "    .dataframe thead th {\n",
       "        text-align: right;\n",
       "    }\n",
       "</style>\n",
       "<table border=\"1\" class=\"dataframe\">\n",
       "  <thead>\n",
       "    <tr style=\"text-align: right;\">\n",
       "      <th></th>\n",
       "      <th>model</th>\n",
       "      <th>accuracy</th>\n",
       "    </tr>\n",
       "  </thead>\n",
       "  <tbody>\n",
       "    <tr>\n",
       "      <th>0</th>\n",
       "      <td>Linear SVC</td>\n",
       "      <td>0.925125</td>\n",
       "    </tr>\n",
       "    <tr>\n",
       "      <th>1</th>\n",
       "      <td>Passive Aggressive Classifier</td>\n",
       "      <td>0.928750</td>\n",
       "    </tr>\n",
       "    <tr>\n",
       "      <th>2</th>\n",
       "      <td>Logistic Regression</td>\n",
       "      <td>0.861500</td>\n",
       "    </tr>\n",
       "    <tr>\n",
       "      <th>3</th>\n",
       "      <td>Multinomial Naive Bayes</td>\n",
       "      <td>0.842875</td>\n",
       "    </tr>\n",
       "    <tr>\n",
       "      <th>4</th>\n",
       "      <td>Linear SGD</td>\n",
       "      <td>0.896500</td>\n",
       "    </tr>\n",
       "  </tbody>\n",
       "</table>\n",
       "</div>"
      ],
      "text/plain": [
       "                           model  accuracy\n",
       "0                     Linear SVC  0.925125\n",
       "1  Passive Aggressive Classifier  0.928750\n",
       "2            Logistic Regression  0.861500\n",
       "3        Multinomial Naive Bayes  0.842875\n",
       "4                     Linear SGD  0.896500"
      ]
     },
     "execution_count": 37,
     "metadata": {},
     "output_type": "execute_result"
    }
   ],
   "source": [
    "model_testing(data_types_ie_balanced)"
   ]
  },
  {
   "cell_type": "markdown",
   "metadata": {},
   "source": [
    "The best model is the Passive Aggressive Classifier, so we will use it for the I/E prediction."
   ]
  },
  {
   "cell_type": "code",
   "execution_count": 38,
   "metadata": {},
   "outputs": [
    {
     "data": {
      "text/plain": [
       "(6400,)"
      ]
     },
     "execution_count": 38,
     "metadata": {},
     "output_type": "execute_result"
    },
    {
     "data": {
      "text/plain": [
       "(6400,)"
      ]
     },
     "execution_count": 38,
     "metadata": {},
     "output_type": "execute_result"
    },
    {
     "data": {
      "text/plain": [
       "<matplotlib.figure.Figure at 0x14f13ea07b8>"
      ]
     },
     "execution_count": 38,
     "metadata": {},
     "output_type": "execute_result"
    },
    {
     "data": {
      "text/plain": [
       "<matplotlib.axes._subplots.AxesSubplot at 0x14f176f35c0>"
      ]
     },
     "execution_count": 38,
     "metadata": {},
     "output_type": "execute_result"
    },
    {
     "data": {
      "image/png": "[encoded data removed]",
      "text/plain": [
       "<matplotlib.figure.Figure at 0x14f13ea07b8>"
      ]
     },
     "metadata": {},
     "output_type": "display_data"
    }
   ],
   "source": [
    "# create training and validation vars\n",
    "X_train, X_val, y_train, y_val = train_test_split(data_types_ie_balanced['posts'], data_types_ie_balanced['label'], test_size=0.2, random_state=42)\n",
    "X_train.shape\n",
    "y_train.shape\n",
    "\n",
    "# Fitting the Model\n",
    "\n",
    "ie_model_balanced = Pipeline([('vect', CountVectorizer()), ('tfidf', TfidfTransformer()), ('clf-pac', PassiveAggressiveClassifier(max_iter=50))])\n",
    "ie_model_balanced = ie_model_balanced.fit(X_train, y_train)\n",
    "\n",
    "# Predicting on the validation set\n",
    "predicted = ie_model_balanced.predict(X_val)\n",
    "\n",
    "conf = confusion_matrix(y_val, predicted, labels=[\"I\", \"E\"]) \n",
    "df_cm = pd.DataFrame(conf, index = [\"I\", \"E\"], columns = [\"I\", \"E\"])\n",
    "plt.figure(figsize = (10,7))\n",
    "sn.heatmap(df_cm, annot=True, cmap='Blues', fmt='g')\n",
    "plt.show()"
   ]
  },
  {
   "cell_type": "markdown",
   "metadata": {},
   "source": [
    "E's are much better predicted than before, but it is very important to note that part of this high accuracy for the E is that the rows are duplicated so it's much easier to classify them."
   ]
  },
  {
   "cell_type": "markdown",
   "metadata": {},
   "source": [
    "Now let's test models for S/N dataframe."
   ]
  },
  {
   "cell_type": "code",
   "execution_count": 39,
   "metadata": {},
   "outputs": [
    {
     "data": {
      "text/html": [
       "<div>\n",
       "<style scoped>\n",
       "    .dataframe tbody tr th:only-of-type {\n",
       "        vertical-align: middle;\n",
       "    }\n",
       "\n",
       "    .dataframe tbody tr th {\n",
       "        vertical-align: top;\n",
       "    }\n",
       "\n",
       "    .dataframe thead th {\n",
       "        text-align: right;\n",
       "    }\n",
       "</style>\n",
       "<table border=\"1\" class=\"dataframe\">\n",
       "  <thead>\n",
       "    <tr style=\"text-align: right;\">\n",
       "      <th></th>\n",
       "      <th>model</th>\n",
       "      <th>accuracy</th>\n",
       "    </tr>\n",
       "  </thead>\n",
       "  <tbody>\n",
       "    <tr>\n",
       "      <th>0</th>\n",
       "      <td>Linear SVC</td>\n",
       "      <td>0.944500</td>\n",
       "    </tr>\n",
       "    <tr>\n",
       "      <th>1</th>\n",
       "      <td>Passive Aggressive Classifier</td>\n",
       "      <td>0.950833</td>\n",
       "    </tr>\n",
       "    <tr>\n",
       "      <th>2</th>\n",
       "      <td>Logistic Regression</td>\n",
       "      <td>0.901000</td>\n",
       "    </tr>\n",
       "    <tr>\n",
       "      <th>3</th>\n",
       "      <td>Multinomial Naive Bayes</td>\n",
       "      <td>0.901333</td>\n",
       "    </tr>\n",
       "    <tr>\n",
       "      <th>4</th>\n",
       "      <td>Linear SGD</td>\n",
       "      <td>0.936500</td>\n",
       "    </tr>\n",
       "  </tbody>\n",
       "</table>\n",
       "</div>"
      ],
      "text/plain": [
       "                           model  accuracy\n",
       "0                     Linear SVC  0.944500\n",
       "1  Passive Aggressive Classifier  0.950833\n",
       "2            Logistic Regression  0.901000\n",
       "3        Multinomial Naive Bayes  0.901333\n",
       "4                     Linear SGD  0.936500"
      ]
     },
     "execution_count": 39,
     "metadata": {},
     "output_type": "execute_result"
    }
   ],
   "source": [
    "model_testing(data_types_sn_balanced)"
   ]
  },
  {
   "cell_type": "markdown",
   "metadata": {},
   "source": [
    "Once again, the Passive Aggressive Classifier gives us the best accuracy and is our chosen model for S/N prediction."
   ]
  },
  {
   "cell_type": "code",
   "execution_count": 40,
   "metadata": {},
   "outputs": [
    {
     "data": {
      "text/plain": [
       "(4800,)"
      ]
     },
     "execution_count": 40,
     "metadata": {},
     "output_type": "execute_result"
    },
    {
     "data": {
      "text/plain": [
       "(4800,)"
      ]
     },
     "execution_count": 40,
     "metadata": {},
     "output_type": "execute_result"
    },
    {
     "data": {
      "text/plain": [
       "<matplotlib.figure.Figure at 0x14f17a7f5c0>"
      ]
     },
     "execution_count": 40,
     "metadata": {},
     "output_type": "execute_result"
    },
    {
     "data": {
      "text/plain": [
       "<matplotlib.axes._subplots.AxesSubplot at 0x14f1601afd0>"
      ]
     },
     "execution_count": 40,
     "metadata": {},
     "output_type": "execute_result"
    },
    {
     "data": {
      "image/png": "[encoded data removed]",
      "text/plain": [
       "<matplotlib.figure.Figure at 0x14f17a7f5c0>"
      ]
     },
     "metadata": {},
     "output_type": "display_data"
    }
   ],
   "source": [
    "# create training and validation vars\n",
    "X_train, X_val, y_train, y_val = train_test_split(data_types_sn_balanced['posts'], data_types_sn_balanced['label'], test_size=0.2, random_state=42)\n",
    "X_train.shape\n",
    "y_train.shape\n",
    "\n",
    "# Fitting the Model\n",
    "\n",
    "sn_model_balanced = Pipeline([('vect', CountVectorizer()), ('tfidf', TfidfTransformer()), ('clf-pac', PassiveAggressiveClassifier(max_iter=50))])\n",
    "sn_model_balanced = sn_model_balanced.fit(X_train, y_train)\n",
    "\n",
    "# Predicting on the validation set\n",
    "predicted = sn_model_balanced.predict(X_val)\n",
    "\n",
    "conf = confusion_matrix(y_val, predicted, labels=[\"S\", \"N\"]) \n",
    "df_cm = pd.DataFrame(conf, index = [\"S\", \"N\"], columns = [\"S\", \"N\"])\n",
    "plt.figure(figsize = (10,7))\n",
    "sn.heatmap(df_cm, annot=True, cmap='Blues', fmt='g')\n",
    "plt.show()"
   ]
  },
  {
   "cell_type": "markdown",
   "metadata": {},
   "source": [
    "Much better prediction for the S, but again it is important to remember that it is partly caused by the duplication in the rows."
   ]
  },
  {
   "cell_type": "markdown",
   "metadata": {},
   "source": [
    "We will skip the T/F dataframe."
   ]
  },
  {
   "cell_type": "markdown",
   "metadata": {},
   "source": [
    "Next, let's check J/P."
   ]
  },
  {
   "cell_type": "code",
   "execution_count": 41,
   "metadata": {},
   "outputs": [
    {
     "data": {
      "text/html": [
       "<div>\n",
       "<style scoped>\n",
       "    .dataframe tbody tr th:only-of-type {\n",
       "        vertical-align: middle;\n",
       "    }\n",
       "\n",
       "    .dataframe tbody tr th {\n",
       "        vertical-align: top;\n",
       "    }\n",
       "\n",
       "    .dataframe thead th {\n",
       "        text-align: right;\n",
       "    }\n",
       "</style>\n",
       "<table border=\"1\" class=\"dataframe\">\n",
       "  <thead>\n",
       "    <tr style=\"text-align: right;\">\n",
       "      <th></th>\n",
       "      <th>model</th>\n",
       "      <th>accuracy</th>\n",
       "    </tr>\n",
       "  </thead>\n",
       "  <tbody>\n",
       "    <tr>\n",
       "      <th>0</th>\n",
       "      <td>Linear SVC</td>\n",
       "      <td>0.772128</td>\n",
       "    </tr>\n",
       "    <tr>\n",
       "      <th>1</th>\n",
       "      <td>Passive Aggressive Classifier</td>\n",
       "      <td>0.744753</td>\n",
       "    </tr>\n",
       "    <tr>\n",
       "      <th>2</th>\n",
       "      <td>Logistic Regression</td>\n",
       "      <td>0.796157</td>\n",
       "    </tr>\n",
       "    <tr>\n",
       "      <th>3</th>\n",
       "      <td>Multinomial Naive Bayes</td>\n",
       "      <td>0.690442</td>\n",
       "    </tr>\n",
       "    <tr>\n",
       "      <th>4</th>\n",
       "      <td>Linear SGD</td>\n",
       "      <td>0.779114</td>\n",
       "    </tr>\n",
       "  </tbody>\n",
       "</table>\n",
       "</div>"
      ],
      "text/plain": [
       "                           model  accuracy\n",
       "0                     Linear SVC  0.772128\n",
       "1  Passive Aggressive Classifier  0.744753\n",
       "2            Logistic Regression  0.796157\n",
       "3        Multinomial Naive Bayes  0.690442\n",
       "4                     Linear SGD  0.779114"
      ]
     },
     "execution_count": 41,
     "metadata": {},
     "output_type": "execute_result"
    }
   ],
   "source": [
    "model_testing(data_types_jp_balanced)"
   ]
  },
  {
   "cell_type": "markdown",
   "metadata": {},
   "source": [
    "Much lower accuracy, but again Logistic Regression is the winner."
   ]
  },
  {
   "cell_type": "code",
   "execution_count": 42,
   "metadata": {},
   "outputs": [
    {
     "data": {
      "text/plain": [
       "(5494,)"
      ]
     },
     "execution_count": 42,
     "metadata": {},
     "output_type": "execute_result"
    },
    {
     "data": {
      "text/plain": [
       "(5494,)"
      ]
     },
     "execution_count": 42,
     "metadata": {},
     "output_type": "execute_result"
    },
    {
     "data": {
      "text/plain": [
       "<matplotlib.figure.Figure at 0x14f1c5a1128>"
      ]
     },
     "execution_count": 42,
     "metadata": {},
     "output_type": "execute_result"
    },
    {
     "data": {
      "text/plain": [
       "<matplotlib.axes._subplots.AxesSubplot at 0x14f2a471e10>"
      ]
     },
     "execution_count": 42,
     "metadata": {},
     "output_type": "execute_result"
    },
    {
     "data": {
      "image/png": "[encoded data removed]",
      "text/plain": [
       "<matplotlib.figure.Figure at 0x14f1c5a1128>"
      ]
     },
     "metadata": {},
     "output_type": "display_data"
    }
   ],
   "source": [
    "# create training and validation vars\n",
    "X_train, X_val, y_train, y_val = train_test_split(data_types_jp_balanced['posts'], data_types_jp_balanced['label'], test_size=0.2, random_state=42)\n",
    "X_train.shape\n",
    "y_train.shape\n",
    "\n",
    "# Fitting the Model\n",
    "\n",
    "jp_model_balanced = Pipeline([('vect', CountVectorizer()), ('tfidf', TfidfTransformer()), ('clf-lr', LogisticRegression(multi_class=\"ovr\"))])\n",
    "jp_model_balanced = jp_model_balanced.fit(X_train, y_train)\n",
    "\n",
    "# Predicting on the validation set\n",
    "predicted = jp_model_balanced.predict(X_val)\n",
    "\n",
    "conf = confusion_matrix(y_val, predicted, labels=[\"J\", \"P\"]) \n",
    "df_cm = pd.DataFrame(conf, index = [\"J\", \"P\"], columns = [\"J\", \"P\"])\n",
    "plt.figure(figsize = (10,7))\n",
    "sn.heatmap(df_cm, annot=True, cmap='Blues', fmt='g')\n",
    "plt.show()"
   ]
  },
  {
   "cell_type": "markdown",
   "metadata": {},
   "source": [
    "Much better prediction for the J. But the general lower accuracy of the models makes us conclude that it seems that J and P do not show in a person's writing as much as the other letters."
   ]
  },
  {
   "cell_type": "markdown",
   "metadata": {},
   "source": [
    "Finally, our temperament dataframe."
   ]
  },
  {
   "cell_type": "code",
   "execution_count": 43,
   "metadata": {},
   "outputs": [
    {
     "data": {
      "text/html": [
       "<div>\n",
       "<style scoped>\n",
       "    .dataframe tbody tr th:only-of-type {\n",
       "        vertical-align: middle;\n",
       "    }\n",
       "\n",
       "    .dataframe tbody tr th {\n",
       "        vertical-align: top;\n",
       "    }\n",
       "\n",
       "    .dataframe thead th {\n",
       "        text-align: right;\n",
       "    }\n",
       "</style>\n",
       "<table border=\"1\" class=\"dataframe\">\n",
       "  <thead>\n",
       "    <tr style=\"text-align: right;\">\n",
       "      <th></th>\n",
       "      <th>model</th>\n",
       "      <th>accuracy</th>\n",
       "    </tr>\n",
       "  </thead>\n",
       "  <tbody>\n",
       "    <tr>\n",
       "      <th>0</th>\n",
       "      <td>Linear SVC</td>\n",
       "      <td>0.86675</td>\n",
       "    </tr>\n",
       "    <tr>\n",
       "      <th>1</th>\n",
       "      <td>Passive Aggressive Classifier</td>\n",
       "      <td>0.86125</td>\n",
       "    </tr>\n",
       "    <tr>\n",
       "      <th>2</th>\n",
       "      <td>Logistic Regression</td>\n",
       "      <td>0.83175</td>\n",
       "    </tr>\n",
       "    <tr>\n",
       "      <th>3</th>\n",
       "      <td>Multinomial Naive Bayes</td>\n",
       "      <td>0.76350</td>\n",
       "    </tr>\n",
       "    <tr>\n",
       "      <th>4</th>\n",
       "      <td>Linear SGD</td>\n",
       "      <td>0.86150</td>\n",
       "    </tr>\n",
       "  </tbody>\n",
       "</table>\n",
       "</div>"
      ],
      "text/plain": [
       "                           model  accuracy\n",
       "0                     Linear SVC   0.86675\n",
       "1  Passive Aggressive Classifier   0.86125\n",
       "2            Logistic Regression   0.83175\n",
       "3        Multinomial Naive Bayes   0.76350\n",
       "4                     Linear SGD   0.86150"
      ]
     },
     "execution_count": 43,
     "metadata": {},
     "output_type": "execute_result"
    }
   ],
   "source": [
    "model_testing(data_temperament_balanced)"
   ]
  },
  {
   "cell_type": "markdown",
   "metadata": {},
   "source": [
    "Linear SVC is the winner."
   ]
  },
  {
   "cell_type": "code",
   "execution_count": 44,
   "metadata": {},
   "outputs": [
    {
     "data": {
      "text/plain": [
       "(3200,)"
      ]
     },
     "execution_count": 44,
     "metadata": {},
     "output_type": "execute_result"
    },
    {
     "data": {
      "text/plain": [
       "(3200,)"
      ]
     },
     "execution_count": 44,
     "metadata": {},
     "output_type": "execute_result"
    },
    {
     "data": {
      "text/plain": [
       "<matplotlib.figure.Figure at 0x14f0b736940>"
      ]
     },
     "execution_count": 44,
     "metadata": {},
     "output_type": "execute_result"
    },
    {
     "data": {
      "text/plain": [
       "<matplotlib.axes._subplots.AxesSubplot at 0x14f19600e10>"
      ]
     },
     "execution_count": 44,
     "metadata": {},
     "output_type": "execute_result"
    },
    {
     "data": {
      "image/png": "[encoded data removed]",
      "text/plain": [
       "<matplotlib.figure.Figure at 0x14f0b736940>"
      ]
     },
     "metadata": {},
     "output_type": "display_data"
    }
   ],
   "source": [
    "# create training and validation vars\n",
    "X_train, X_val, y_train, y_val = train_test_split(data_temperament_balanced['posts'], data_temperament_balanced['label'], test_size=0.2, random_state=42)\n",
    "X_train.shape\n",
    "y_train.shape\n",
    "\n",
    "# Fitting the Model\n",
    "\n",
    "temperament_model_balanced = Pipeline([('vect', CountVectorizer()), ('tfidf', TfidfTransformer()), ('clf-svm', LinearSVC(multi_class=\"ovr\"))])\n",
    "temperament_model_balanced = temperament_model_balanced.fit(X_train, y_train)\n",
    "\n",
    "# Predicting on the validation set\n",
    "predicted = temperament_model_balanced.predict(X_val)\n",
    "\n",
    "conf = confusion_matrix(y_val, predicted, labels=[\"rational\", \"idealist\", \"guardian\", \"artisan\"]) \n",
    "df_cm = pd.DataFrame(conf, index = [\"rational\", \"idealist\", \"guardian\", \"artisan\"], columns = [\"rational\", \"idealist\", \"guardian\", \"artisan\"])\n",
    "plt.figure(figsize = (10,7))\n",
    "sn.heatmap(df_cm, annot=True, cmap='Blues', fmt='g')\n",
    "plt.show()"
   ]
  },
  {
   "cell_type": "markdown",
   "metadata": {},
   "source": [
    "Results are much better for guardians and artisans."
   ]
  },
  {
   "cell_type": "markdown",
   "metadata": {
    "collapsed": true
   },
   "source": [
    "# How can we use these models?"
   ]
  },
  {
   "cell_type": "markdown",
   "metadata": {},
   "source": [
    "Being able to identify a user's personality preferences can be very beneficial for customer segmentation in order to design marketing messages that are relevant to the users. \n",
    "\n",
    "Here are some sample marketing messages for each temperament and letter:\n",
    "\n",
    "For the Temperaments:\n",
    "\n",
    "Rationals: Our product will provide statistically significant improvements to your efficiency.\n",
    "\n",
    "Idealists: Our product will help you change the world.\n",
    "\n",
    "Guardians: Our product has always been the reliable number one choice.\n",
    "\n",
    "Artisans: Our product is what you need right now to get it done.\n",
    "\n",
    "\n",
    "For the Inidividual Letters, N/S and T/F might perhaps be the ones with the most effect on marketing messages:\n",
    "\n",
    "Intuitive (N) - a more abstract message: In the forest of life, our product helps you be the lion.\n",
    "\n",
    "Sensing (S) - a more concrete message: Our product is easier to apply, maintain and gives better results.\n",
    "\n",
    "Thinking (T) - a more factual message: Why Us? Our product fulfills your needs.\n",
    "\n",
    "Feeling (F) - a more emotional message: Why Us? Our team cares for you.\n",
    "\n",
    "\n"
   ]
  },
  {
   "cell_type": "markdown",
   "metadata": {},
   "source": [
    "# Can we Generalize the Models? Testing on Celebrity Quotes"
   ]
  },
  {
   "cell_type": "markdown",
   "metadata": {},
   "source": [
    "We will test the models on a corpus of quotes of famous people found on Github (https://github.com/alvations/Quotables).\n",
    "This quotes file was filtered and the personality types of each person was added according to the following links:\n",
    "https://legacy.keirsey.com/4temps/famous_guardians.asp\n",
    "https://legacy.keirsey.com/4temps/famous_artisans.asp\n",
    "https://legacy.keirsey.com/4temps/famous_rational.asp\n",
    "https://legacy.keirsey.com/4temps/famous_idealists.asp\n",
    "\n",
    "We will use this file to explore whether we can use our models that were built from tweets to predict the personality types from quotes."
   ]
  },
  {
   "cell_type": "code",
   "execution_count": 45,
   "metadata": {},
   "outputs": [
    {
     "data": {
      "text/html": [
       "<div>\n",
       "<style scoped>\n",
       "    .dataframe tbody tr th:only-of-type {\n",
       "        vertical-align: middle;\n",
       "    }\n",
       "\n",
       "    .dataframe tbody tr th {\n",
       "        vertical-align: top;\n",
       "    }\n",
       "\n",
       "    .dataframe thead th {\n",
       "        text-align: right;\n",
       "    }\n",
       "</style>\n",
       "<table border=\"1\" class=\"dataframe\">\n",
       "  <thead>\n",
       "    <tr style=\"text-align: right;\">\n",
       "      <th></th>\n",
       "      <th>person</th>\n",
       "      <th>temperament</th>\n",
       "      <th>ie</th>\n",
       "      <th>sn</th>\n",
       "      <th>tf</th>\n",
       "      <th>jp</th>\n",
       "      <th>quotes</th>\n",
       "    </tr>\n",
       "  </thead>\n",
       "  <tbody>\n",
       "    <tr>\n",
       "      <th>0</th>\n",
       "      <td>Abraham Lincoln</td>\n",
       "      <td>rational</td>\n",
       "      <td>E</td>\n",
       "      <td>N</td>\n",
       "      <td>T</td>\n",
       "      <td>P</td>\n",
       "      <td>Always bear in mind that your own resolution t...</td>\n",
       "    </tr>\n",
       "    <tr>\n",
       "      <th>1</th>\n",
       "      <td>Albert Einstein</td>\n",
       "      <td>rational</td>\n",
       "      <td>I</td>\n",
       "      <td>N</td>\n",
       "      <td>T</td>\n",
       "      <td>P</td>\n",
       "      <td>You have to learn the rules of the game. And t...</td>\n",
       "    </tr>\n",
       "    <tr>\n",
       "      <th>2</th>\n",
       "      <td>Albert Schweitzer</td>\n",
       "      <td>idealist</td>\n",
       "      <td>I</td>\n",
       "      <td>N</td>\n",
       "      <td>F</td>\n",
       "      <td>P</td>\n",
       "      <td>In everyone's life, at some time, our inner fi...</td>\n",
       "    </tr>\n",
       "    <tr>\n",
       "      <th>3</th>\n",
       "      <td>Aldous Huxley</td>\n",
       "      <td>idealist</td>\n",
       "      <td>I</td>\n",
       "      <td>N</td>\n",
       "      <td>F</td>\n",
       "      <td>P</td>\n",
       "      <td>Experience is not what happens to you; it's wh...</td>\n",
       "    </tr>\n",
       "    <tr>\n",
       "      <th>4</th>\n",
       "      <td>Alexander Hamilton</td>\n",
       "      <td>idealist</td>\n",
       "      <td>E</td>\n",
       "      <td>N</td>\n",
       "      <td>F</td>\n",
       "      <td>P</td>\n",
       "      <td>Those who stand for nothing fall for anything....</td>\n",
       "    </tr>\n",
       "  </tbody>\n",
       "</table>\n",
       "</div>"
      ],
      "text/plain": [
       "               person temperament ie sn tf jp  \\\n",
       "0     Abraham Lincoln    rational  E  N  T  P   \n",
       "1     Albert Einstein    rational  I  N  T  P   \n",
       "2   Albert Schweitzer    idealist  I  N  F  P   \n",
       "3       Aldous Huxley    idealist  I  N  F  P   \n",
       "4  Alexander Hamilton    idealist  E  N  F  P   \n",
       "\n",
       "                                              quotes  \n",
       "0  Always bear in mind that your own resolution t...  \n",
       "1  You have to learn the rules of the game. And t...  \n",
       "2  In everyone's life, at some time, our inner fi...  \n",
       "3  Experience is not what happens to you; it's wh...  \n",
       "4  Those who stand for nothing fall for anything....  "
      ]
     },
     "execution_count": 45,
     "metadata": {},
     "output_type": "execute_result"
    },
    {
     "data": {
      "text/plain": [
       "(65, 7)"
      ]
     },
     "execution_count": 45,
     "metadata": {},
     "output_type": "execute_result"
    }
   ],
   "source": [
    "quotes = pd.read_csv('quotes2.csv')\n",
    "quotes.head()\n",
    "quotes.shape\n",
    "quotes.quotes = quotes.quotes.astype(str)"
   ]
  },
  {
   "cell_type": "markdown",
   "metadata": {},
   "source": [
    "We will process the quotes in the same way we processed the tweets before, then use our models (with the balanced datasets) to predict the personality types."
   ]
  },
  {
   "cell_type": "code",
   "execution_count": 46,
   "metadata": {},
   "outputs": [
    {
     "data": {
      "text/plain": [
       "'alway bear mind resolut succeed import end year life count life year nearli men stand advers want test man charact give power folk happi make mind america never destroy outsid falter lose freedom destroy best thing futur come one day time hope owe angel mother escap respons tomorrow evad today philosophi school room one gener philosophi govern next charact like tree reput like shadow shadow think tree real thing give six hour chop tree spend first four sharpen axe bound win bound true bound succeed bound live light must stand anybodi stand right stand right part goe wrong better remain silent thought fool speak remov doubt whatev good one good feel good bad feel bad that religion fool peopl time peopl time fool peopl time four score seven year ago father brought forth contin new nation conceiv liberti dedic proposit men creat equal man good enough govern anoth man without other consent marriag neither heaven hell simpli purgatori thing may come wait thing left hustl dont worri recogn s'"
      ]
     },
     "execution_count": 46,
     "metadata": {},
     "output_type": "execute_result"
    }
   ],
   "source": [
    "test_text = quotes\n",
    "\n",
    "# Remove punctuation function\n",
    "from string import punctuation\n",
    "\n",
    "def strip_punctuation(s):\n",
    "    return ''.join(c for c in s if c not in punctuation)\n",
    "\n",
    "\n",
    "for row in range(0,len(test_text)):\n",
    "    \n",
    "    # remove punctuation\n",
    "    test_text.loc[row, 'quotes'] = strip_punctuation(test_text.loc[row,'quotes'])\n",
    "        \n",
    "    # make lowercase\n",
    "    test_text.loc[row, 'quotes'] = test_text.loc[row, 'quotes'].lower()\n",
    "    \n",
    "    # Remove numbers\n",
    "    test_text.loc[row, 'quotes'] = ''.join([i for i in test_text.loc[row, 'quotes'] if not i.isdigit()])\n",
    "    \n",
    "    # Compress large spaces into single spaces\n",
    "    test_text.loc[row, 'quotes'] = ' '.join(test_text.loc[row, 'quotes'].split())\n",
    "\n",
    "   \n",
    "    \n",
    "# Tokenizing\n",
    "\n",
    "for row in range(0,len(test_text)):\n",
    "    test_text.loc[row, 'quotes'] = word_tokenize(test_text.loc[row, 'quotes'])\n",
    "    \n",
    "# Remove stop words\n",
    "stop = set(stopwords.words('english'))\n",
    "\n",
    "for row in range(0,len(test_text)):\n",
    "    test_text.loc[row, 'quotes'] = [w for w in test_text.loc[row, 'quotes'] if not w in stop]\n",
    "    \n",
    "# Stemming\n",
    "for row in range(0,len(test_text)):\n",
    "    porter = PorterStemmer()\n",
    "    test_text.loc[row, 'quotes'] = [porter.stem(word) for word in test_text.loc[row, 'quotes']]\n",
    "\n",
    "\n",
    "# Concatenate list to text again\n",
    "for row in range(0,len(test_text)):\n",
    "    test_text.loc[row, 'quotes'] = ' '.join(test_text.loc[row, 'quotes'])\n",
    "    \n",
    "test_text.loc[0,'quotes'][0:1000]"
   ]
  },
  {
   "cell_type": "markdown",
   "metadata": {},
   "source": [
    "Now let's fit the models and analyze the results.\n",
    "\n",
    "We will predict the temperament using two ways:\n",
    "1. Using the predicted letters where N & T result in Rational, N & F result in Idealist, S & J result in Guardian, and S & P result in Artisan. We will call that: Resulting Temperament.\n",
    "2. Using our temperament model. We will call that Predicted Temperament.\n",
    "\n",
    "This will give us an idea of which one gives a better prediction."
   ]
  },
  {
   "cell_type": "code",
   "execution_count": 48,
   "metadata": {},
   "outputs": [
    {
     "name": "stdout",
     "output_type": "stream",
     "text": [
      "Resulting Temperament Accuracy:  0.4461538461538462\n",
      "Predicted Temperament Accuracy:  0.4153846153846154\n",
      "IE Accuracy:  0.5384615384615384\n",
      "SN Accuracy:  0.6\n",
      "TF Accuracy:  0.7384615384615385\n",
      "JP Accuracy:  0.6\n"
     ]
    },
    {
     "data": {
      "text/html": [
       "<div>\n",
       "<style scoped>\n",
       "    .dataframe tbody tr th:only-of-type {\n",
       "        vertical-align: middle;\n",
       "    }\n",
       "\n",
       "    .dataframe tbody tr th {\n",
       "        vertical-align: top;\n",
       "    }\n",
       "\n",
       "    .dataframe thead th {\n",
       "        text-align: right;\n",
       "    }\n",
       "</style>\n",
       "<table border=\"1\" class=\"dataframe\">\n",
       "  <thead>\n",
       "    <tr style=\"text-align: right;\">\n",
       "      <th></th>\n",
       "      <th>person</th>\n",
       "      <th>I/E</th>\n",
       "      <th>S/N</th>\n",
       "      <th>T/F</th>\n",
       "      <th>J/P</th>\n",
       "      <th>resulting temperament</th>\n",
       "      <th>pred temperament</th>\n",
       "      <th>real temperament</th>\n",
       "    </tr>\n",
       "  </thead>\n",
       "  <tbody>\n",
       "    <tr>\n",
       "      <th>0</th>\n",
       "      <td>Abraham Lincoln</td>\n",
       "      <td>I</td>\n",
       "      <td>N</td>\n",
       "      <td>F</td>\n",
       "      <td>P</td>\n",
       "      <td>idealist</td>\n",
       "      <td>idealist</td>\n",
       "      <td>rational</td>\n",
       "    </tr>\n",
       "    <tr>\n",
       "      <th>1</th>\n",
       "      <td>Albert Einstein</td>\n",
       "      <td>I</td>\n",
       "      <td>N</td>\n",
       "      <td>T</td>\n",
       "      <td>P</td>\n",
       "      <td>rational</td>\n",
       "      <td>rational</td>\n",
       "      <td>rational</td>\n",
       "    </tr>\n",
       "    <tr>\n",
       "      <th>2</th>\n",
       "      <td>Albert Schweitzer</td>\n",
       "      <td>I</td>\n",
       "      <td>N</td>\n",
       "      <td>F</td>\n",
       "      <td>J</td>\n",
       "      <td>idealist</td>\n",
       "      <td>idealist</td>\n",
       "      <td>idealist</td>\n",
       "    </tr>\n",
       "    <tr>\n",
       "      <th>3</th>\n",
       "      <td>Aldous Huxley</td>\n",
       "      <td>I</td>\n",
       "      <td>N</td>\n",
       "      <td>T</td>\n",
       "      <td>J</td>\n",
       "      <td>rational</td>\n",
       "      <td>rational</td>\n",
       "      <td>idealist</td>\n",
       "    </tr>\n",
       "    <tr>\n",
       "      <th>4</th>\n",
       "      <td>Alexander Hamilton</td>\n",
       "      <td>I</td>\n",
       "      <td>N</td>\n",
       "      <td>T</td>\n",
       "      <td>J</td>\n",
       "      <td>rational</td>\n",
       "      <td>rational</td>\n",
       "      <td>idealist</td>\n",
       "    </tr>\n",
       "    <tr>\n",
       "      <th>5</th>\n",
       "      <td>Benjamin Franklin</td>\n",
       "      <td>I</td>\n",
       "      <td>N</td>\n",
       "      <td>T</td>\n",
       "      <td>J</td>\n",
       "      <td>rational</td>\n",
       "      <td>idealist</td>\n",
       "      <td>rational</td>\n",
       "    </tr>\n",
       "    <tr>\n",
       "      <th>6</th>\n",
       "      <td>Bill Gates</td>\n",
       "      <td>E</td>\n",
       "      <td>N</td>\n",
       "      <td>T</td>\n",
       "      <td>J</td>\n",
       "      <td>rational</td>\n",
       "      <td>rational</td>\n",
       "      <td>rational</td>\n",
       "    </tr>\n",
       "    <tr>\n",
       "      <th>7</th>\n",
       "      <td>Bob Dylan</td>\n",
       "      <td>I</td>\n",
       "      <td>N</td>\n",
       "      <td>T</td>\n",
       "      <td>P</td>\n",
       "      <td>rational</td>\n",
       "      <td>idealist</td>\n",
       "      <td>artisan</td>\n",
       "    </tr>\n",
       "    <tr>\n",
       "      <th>8</th>\n",
       "      <td>Buddha</td>\n",
       "      <td>I</td>\n",
       "      <td>N</td>\n",
       "      <td>F</td>\n",
       "      <td>J</td>\n",
       "      <td>idealist</td>\n",
       "      <td>idealist</td>\n",
       "      <td>idealist</td>\n",
       "    </tr>\n",
       "    <tr>\n",
       "      <th>9</th>\n",
       "      <td>Carl Jung</td>\n",
       "      <td>I</td>\n",
       "      <td>N</td>\n",
       "      <td>F</td>\n",
       "      <td>P</td>\n",
       "      <td>idealist</td>\n",
       "      <td>idealist</td>\n",
       "      <td>idealist</td>\n",
       "    </tr>\n",
       "    <tr>\n",
       "      <th>10</th>\n",
       "      <td>Charles Darwin</td>\n",
       "      <td>I</td>\n",
       "      <td>N</td>\n",
       "      <td>T</td>\n",
       "      <td>P</td>\n",
       "      <td>rational</td>\n",
       "      <td>rational</td>\n",
       "      <td>rational</td>\n",
       "    </tr>\n",
       "    <tr>\n",
       "      <th>11</th>\n",
       "      <td>Charles Dickens</td>\n",
       "      <td>I</td>\n",
       "      <td>N</td>\n",
       "      <td>F</td>\n",
       "      <td>J</td>\n",
       "      <td>idealist</td>\n",
       "      <td>idealist</td>\n",
       "      <td>idealist</td>\n",
       "    </tr>\n",
       "    <tr>\n",
       "      <th>12</th>\n",
       "      <td>Clint Eastwood</td>\n",
       "      <td>I</td>\n",
       "      <td>S</td>\n",
       "      <td>T</td>\n",
       "      <td>P</td>\n",
       "      <td>artisan</td>\n",
       "      <td>guardian</td>\n",
       "      <td>artisan</td>\n",
       "    </tr>\n",
       "    <tr>\n",
       "      <th>13</th>\n",
       "      <td>Donald Trump</td>\n",
       "      <td>E</td>\n",
       "      <td>N</td>\n",
       "      <td>T</td>\n",
       "      <td>P</td>\n",
       "      <td>rational</td>\n",
       "      <td>rational</td>\n",
       "      <td>artisan</td>\n",
       "    </tr>\n",
       "    <tr>\n",
       "      <th>14</th>\n",
       "      <td>Dwight D. Eisenhower</td>\n",
       "      <td>I</td>\n",
       "      <td>N</td>\n",
       "      <td>T</td>\n",
       "      <td>J</td>\n",
       "      <td>rational</td>\n",
       "      <td>rational</td>\n",
       "      <td>rational</td>\n",
       "    </tr>\n",
       "    <tr>\n",
       "      <th>15</th>\n",
       "      <td>Eleanor Roosevelt</td>\n",
       "      <td>I</td>\n",
       "      <td>N</td>\n",
       "      <td>F</td>\n",
       "      <td>J</td>\n",
       "      <td>idealist</td>\n",
       "      <td>idealist</td>\n",
       "      <td>idealist</td>\n",
       "    </tr>\n",
       "    <tr>\n",
       "      <th>16</th>\n",
       "      <td>Elizabeth I</td>\n",
       "      <td>I</td>\n",
       "      <td>N</td>\n",
       "      <td>F</td>\n",
       "      <td>P</td>\n",
       "      <td>idealist</td>\n",
       "      <td>rational</td>\n",
       "      <td>guardian</td>\n",
       "    </tr>\n",
       "    <tr>\n",
       "      <th>17</th>\n",
       "      <td>Elizabeth Taylor</td>\n",
       "      <td>I</td>\n",
       "      <td>N</td>\n",
       "      <td>F</td>\n",
       "      <td>P</td>\n",
       "      <td>idealist</td>\n",
       "      <td>rational</td>\n",
       "      <td>artisan</td>\n",
       "    </tr>\n",
       "    <tr>\n",
       "      <th>18</th>\n",
       "      <td>Emily Bronte</td>\n",
       "      <td>I</td>\n",
       "      <td>N</td>\n",
       "      <td>F</td>\n",
       "      <td>P</td>\n",
       "      <td>idealist</td>\n",
       "      <td>rational</td>\n",
       "      <td>idealist</td>\n",
       "    </tr>\n",
       "    <tr>\n",
       "      <th>19</th>\n",
       "      <td>Ernest Hemingway</td>\n",
       "      <td>I</td>\n",
       "      <td>N</td>\n",
       "      <td>F</td>\n",
       "      <td>P</td>\n",
       "      <td>idealist</td>\n",
       "      <td>idealist</td>\n",
       "      <td>artisan</td>\n",
       "    </tr>\n",
       "    <tr>\n",
       "      <th>20</th>\n",
       "      <td>F. Scott Fitzgerald</td>\n",
       "      <td>I</td>\n",
       "      <td>N</td>\n",
       "      <td>F</td>\n",
       "      <td>P</td>\n",
       "      <td>idealist</td>\n",
       "      <td>idealist</td>\n",
       "      <td>artisan</td>\n",
       "    </tr>\n",
       "    <tr>\n",
       "      <th>21</th>\n",
       "      <td>Franklin D. Roosevelt</td>\n",
       "      <td>I</td>\n",
       "      <td>N</td>\n",
       "      <td>T</td>\n",
       "      <td>P</td>\n",
       "      <td>rational</td>\n",
       "      <td>rational</td>\n",
       "      <td>artisan</td>\n",
       "    </tr>\n",
       "    <tr>\n",
       "      <th>22</th>\n",
       "      <td>Friedrich Nietzsche</td>\n",
       "      <td>I</td>\n",
       "      <td>N</td>\n",
       "      <td>F</td>\n",
       "      <td>J</td>\n",
       "      <td>idealist</td>\n",
       "      <td>idealist</td>\n",
       "      <td>rational</td>\n",
       "    </tr>\n",
       "    <tr>\n",
       "      <th>23</th>\n",
       "      <td>George Bernard Shaw</td>\n",
       "      <td>I</td>\n",
       "      <td>N</td>\n",
       "      <td>T</td>\n",
       "      <td>P</td>\n",
       "      <td>rational</td>\n",
       "      <td>rational</td>\n",
       "      <td>rational</td>\n",
       "    </tr>\n",
       "    <tr>\n",
       "      <th>24</th>\n",
       "      <td>George Orwell</td>\n",
       "      <td>I</td>\n",
       "      <td>N</td>\n",
       "      <td>T</td>\n",
       "      <td>P</td>\n",
       "      <td>rational</td>\n",
       "      <td>rational</td>\n",
       "      <td>idealist</td>\n",
       "    </tr>\n",
       "    <tr>\n",
       "      <th>25</th>\n",
       "      <td>George W. Bush</td>\n",
       "      <td>I</td>\n",
       "      <td>N</td>\n",
       "      <td>T</td>\n",
       "      <td>P</td>\n",
       "      <td>rational</td>\n",
       "      <td>rational</td>\n",
       "      <td>artisan</td>\n",
       "    </tr>\n",
       "    <tr>\n",
       "      <th>26</th>\n",
       "      <td>George Washington</td>\n",
       "      <td>I</td>\n",
       "      <td>N</td>\n",
       "      <td>T</td>\n",
       "      <td>J</td>\n",
       "      <td>rational</td>\n",
       "      <td>rational</td>\n",
       "      <td>guardian</td>\n",
       "    </tr>\n",
       "    <tr>\n",
       "      <th>27</th>\n",
       "      <td>Golda Meir</td>\n",
       "      <td>E</td>\n",
       "      <td>N</td>\n",
       "      <td>T</td>\n",
       "      <td>J</td>\n",
       "      <td>rational</td>\n",
       "      <td>rational</td>\n",
       "      <td>rational</td>\n",
       "    </tr>\n",
       "    <tr>\n",
       "      <th>28</th>\n",
       "      <td>Harry S Truman</td>\n",
       "      <td>I</td>\n",
       "      <td>N</td>\n",
       "      <td>T</td>\n",
       "      <td>J</td>\n",
       "      <td>rational</td>\n",
       "      <td>rational</td>\n",
       "      <td>guardian</td>\n",
       "    </tr>\n",
       "    <tr>\n",
       "      <th>29</th>\n",
       "      <td>Henry Ford</td>\n",
       "      <td>E</td>\n",
       "      <td>N</td>\n",
       "      <td>T</td>\n",
       "      <td>J</td>\n",
       "      <td>rational</td>\n",
       "      <td>rational</td>\n",
       "      <td>guardian</td>\n",
       "    </tr>\n",
       "    <tr>\n",
       "      <th>30</th>\n",
       "      <td>Isaac Newton</td>\n",
       "      <td>I</td>\n",
       "      <td>N</td>\n",
       "      <td>T</td>\n",
       "      <td>J</td>\n",
       "      <td>rational</td>\n",
       "      <td>rational</td>\n",
       "      <td>rational</td>\n",
       "    </tr>\n",
       "    <tr>\n",
       "      <th>31</th>\n",
       "      <td>James Joyce</td>\n",
       "      <td>I</td>\n",
       "      <td>N</td>\n",
       "      <td>F</td>\n",
       "      <td>J</td>\n",
       "      <td>idealist</td>\n",
       "      <td>idealist</td>\n",
       "      <td>idealist</td>\n",
       "    </tr>\n",
       "    <tr>\n",
       "      <th>32</th>\n",
       "      <td>Jane Addams</td>\n",
       "      <td>I</td>\n",
       "      <td>N</td>\n",
       "      <td>T</td>\n",
       "      <td>J</td>\n",
       "      <td>rational</td>\n",
       "      <td>rational</td>\n",
       "      <td>idealist</td>\n",
       "    </tr>\n",
       "    <tr>\n",
       "      <th>33</th>\n",
       "      <td>John Adams</td>\n",
       "      <td>I</td>\n",
       "      <td>N</td>\n",
       "      <td>T</td>\n",
       "      <td>P</td>\n",
       "      <td>rational</td>\n",
       "      <td>rational</td>\n",
       "      <td>rational</td>\n",
       "    </tr>\n",
       "    <tr>\n",
       "      <th>34</th>\n",
       "      <td>John D. Rockefeller</td>\n",
       "      <td>I</td>\n",
       "      <td>N</td>\n",
       "      <td>T</td>\n",
       "      <td>J</td>\n",
       "      <td>rational</td>\n",
       "      <td>rational</td>\n",
       "      <td>guardian</td>\n",
       "    </tr>\n",
       "    <tr>\n",
       "      <th>35</th>\n",
       "      <td>John F. Kennedy</td>\n",
       "      <td>I</td>\n",
       "      <td>N</td>\n",
       "      <td>T</td>\n",
       "      <td>J</td>\n",
       "      <td>rational</td>\n",
       "      <td>rational</td>\n",
       "      <td>artisan</td>\n",
       "    </tr>\n",
       "    <tr>\n",
       "      <th>36</th>\n",
       "      <td>Judy Garland</td>\n",
       "      <td>E</td>\n",
       "      <td>N</td>\n",
       "      <td>F</td>\n",
       "      <td>P</td>\n",
       "      <td>idealist</td>\n",
       "      <td>idealist</td>\n",
       "      <td>artisan</td>\n",
       "    </tr>\n",
       "    <tr>\n",
       "      <th>37</th>\n",
       "      <td>Kareem Abdul-Jabbar</td>\n",
       "      <td>I</td>\n",
       "      <td>N</td>\n",
       "      <td>T</td>\n",
       "      <td>P</td>\n",
       "      <td>rational</td>\n",
       "      <td>rational</td>\n",
       "      <td>guardian</td>\n",
       "    </tr>\n",
       "    <tr>\n",
       "      <th>38</th>\n",
       "      <td>Katharine Hepburn</td>\n",
       "      <td>I</td>\n",
       "      <td>N</td>\n",
       "      <td>T</td>\n",
       "      <td>P</td>\n",
       "      <td>rational</td>\n",
       "      <td>rational</td>\n",
       "      <td>artisan</td>\n",
       "    </tr>\n",
       "    <tr>\n",
       "      <th>39</th>\n",
       "      <td>Lyndon B. Johnson</td>\n",
       "      <td>I</td>\n",
       "      <td>N</td>\n",
       "      <td>T</td>\n",
       "      <td>J</td>\n",
       "      <td>rational</td>\n",
       "      <td>rational</td>\n",
       "      <td>artisan</td>\n",
       "    </tr>\n",
       "    <tr>\n",
       "      <th>40</th>\n",
       "      <td>Mahatma Gandhi</td>\n",
       "      <td>I</td>\n",
       "      <td>N</td>\n",
       "      <td>F</td>\n",
       "      <td>P</td>\n",
       "      <td>idealist</td>\n",
       "      <td>idealist</td>\n",
       "      <td>idealist</td>\n",
       "    </tr>\n",
       "    <tr>\n",
       "      <th>41</th>\n",
       "      <td>Margaret Thatcher</td>\n",
       "      <td>I</td>\n",
       "      <td>N</td>\n",
       "      <td>T</td>\n",
       "      <td>J</td>\n",
       "      <td>rational</td>\n",
       "      <td>rational</td>\n",
       "      <td>rational</td>\n",
       "    </tr>\n",
       "    <tr>\n",
       "      <th>42</th>\n",
       "      <td>Marilyn Monroe</td>\n",
       "      <td>I</td>\n",
       "      <td>N</td>\n",
       "      <td>F</td>\n",
       "      <td>P</td>\n",
       "      <td>idealist</td>\n",
       "      <td>idealist</td>\n",
       "      <td>artisan</td>\n",
       "    </tr>\n",
       "    <tr>\n",
       "      <th>43</th>\n",
       "      <td>Mark Twain</td>\n",
       "      <td>I</td>\n",
       "      <td>N</td>\n",
       "      <td>T</td>\n",
       "      <td>P</td>\n",
       "      <td>rational</td>\n",
       "      <td>rational</td>\n",
       "      <td>rational</td>\n",
       "    </tr>\n",
       "    <tr>\n",
       "      <th>44</th>\n",
       "      <td>Mary Baker Eddy</td>\n",
       "      <td>I</td>\n",
       "      <td>N</td>\n",
       "      <td>F</td>\n",
       "      <td>P</td>\n",
       "      <td>idealist</td>\n",
       "      <td>rational</td>\n",
       "      <td>idealist</td>\n",
       "    </tr>\n",
       "    <tr>\n",
       "      <th>45</th>\n",
       "      <td>Michael Jordan</td>\n",
       "      <td>I</td>\n",
       "      <td>N</td>\n",
       "      <td>T</td>\n",
       "      <td>P</td>\n",
       "      <td>rational</td>\n",
       "      <td>rational</td>\n",
       "      <td>artisan</td>\n",
       "    </tr>\n",
       "    <tr>\n",
       "      <th>46</th>\n",
       "      <td>Mother Teresa</td>\n",
       "      <td>I</td>\n",
       "      <td>N</td>\n",
       "      <td>F</td>\n",
       "      <td>P</td>\n",
       "      <td>idealist</td>\n",
       "      <td>idealist</td>\n",
       "      <td>guardian</td>\n",
       "    </tr>\n",
       "    <tr>\n",
       "      <th>47</th>\n",
       "      <td>Napoleon Bonaparte</td>\n",
       "      <td>I</td>\n",
       "      <td>N</td>\n",
       "      <td>T</td>\n",
       "      <td>P</td>\n",
       "      <td>rational</td>\n",
       "      <td>rational</td>\n",
       "      <td>rational</td>\n",
       "    </tr>\n",
       "    <tr>\n",
       "      <th>48</th>\n",
       "      <td>Nelson Mandela</td>\n",
       "      <td>I</td>\n",
       "      <td>N</td>\n",
       "      <td>F</td>\n",
       "      <td>J</td>\n",
       "      <td>idealist</td>\n",
       "      <td>idealist</td>\n",
       "      <td>idealist</td>\n",
       "    </tr>\n",
       "    <tr>\n",
       "      <th>49</th>\n",
       "      <td>Oprah Winfrey</td>\n",
       "      <td>I</td>\n",
       "      <td>N</td>\n",
       "      <td>F</td>\n",
       "      <td>P</td>\n",
       "      <td>idealist</td>\n",
       "      <td>idealist</td>\n",
       "      <td>idealist</td>\n",
       "    </tr>\n",
       "    <tr>\n",
       "      <th>50</th>\n",
       "      <td>Pablo Picasso</td>\n",
       "      <td>I</td>\n",
       "      <td>N</td>\n",
       "      <td>F</td>\n",
       "      <td>J</td>\n",
       "      <td>idealist</td>\n",
       "      <td>idealist</td>\n",
       "      <td>artisan</td>\n",
       "    </tr>\n",
       "    <tr>\n",
       "      <th>51</th>\n",
       "      <td>Plato</td>\n",
       "      <td>I</td>\n",
       "      <td>N</td>\n",
       "      <td>F</td>\n",
       "      <td>P</td>\n",
       "      <td>idealist</td>\n",
       "      <td>idealist</td>\n",
       "      <td>idealist</td>\n",
       "    </tr>\n",
       "    <tr>\n",
       "      <th>52</th>\n",
       "      <td>Pope John Paul II</td>\n",
       "      <td>I</td>\n",
       "      <td>N</td>\n",
       "      <td>T</td>\n",
       "      <td>J</td>\n",
       "      <td>rational</td>\n",
       "      <td>rational</td>\n",
       "      <td>idealist</td>\n",
       "    </tr>\n",
       "    <tr>\n",
       "      <th>53</th>\n",
       "      <td>Princess Diana</td>\n",
       "      <td>I</td>\n",
       "      <td>N</td>\n",
       "      <td>F</td>\n",
       "      <td>J</td>\n",
       "      <td>idealist</td>\n",
       "      <td>idealist</td>\n",
       "      <td>idealist</td>\n",
       "    </tr>\n",
       "    <tr>\n",
       "      <th>54</th>\n",
       "      <td>Queen Elizabeth II</td>\n",
       "      <td>I</td>\n",
       "      <td>N</td>\n",
       "      <td>F</td>\n",
       "      <td>J</td>\n",
       "      <td>idealist</td>\n",
       "      <td>rational</td>\n",
       "      <td>guardian</td>\n",
       "    </tr>\n",
       "    <tr>\n",
       "      <th>55</th>\n",
       "      <td>Ronald Reagan</td>\n",
       "      <td>I</td>\n",
       "      <td>N</td>\n",
       "      <td>T</td>\n",
       "      <td>P</td>\n",
       "      <td>rational</td>\n",
       "      <td>rational</td>\n",
       "      <td>artisan</td>\n",
       "    </tr>\n",
       "    <tr>\n",
       "      <th>56</th>\n",
       "      <td>Soren Kierkegaard</td>\n",
       "      <td>I</td>\n",
       "      <td>N</td>\n",
       "      <td>F</td>\n",
       "      <td>P</td>\n",
       "      <td>idealist</td>\n",
       "      <td>idealist</td>\n",
       "      <td>idealist</td>\n",
       "    </tr>\n",
       "    <tr>\n",
       "      <th>57</th>\n",
       "      <td>Stephen Hawking</td>\n",
       "      <td>I</td>\n",
       "      <td>N</td>\n",
       "      <td>T</td>\n",
       "      <td>J</td>\n",
       "      <td>rational</td>\n",
       "      <td>rational</td>\n",
       "      <td>rational</td>\n",
       "    </tr>\n",
       "    <tr>\n",
       "      <th>58</th>\n",
       "      <td>Steve Jobs</td>\n",
       "      <td>I</td>\n",
       "      <td>N</td>\n",
       "      <td>F</td>\n",
       "      <td>J</td>\n",
       "      <td>idealist</td>\n",
       "      <td>rational</td>\n",
       "      <td>rational</td>\n",
       "    </tr>\n",
       "    <tr>\n",
       "      <th>59</th>\n",
       "      <td>Theodore Roosevelt</td>\n",
       "      <td>I</td>\n",
       "      <td>N</td>\n",
       "      <td>T</td>\n",
       "      <td>J</td>\n",
       "      <td>rational</td>\n",
       "      <td>guardian</td>\n",
       "      <td>artisan</td>\n",
       "    </tr>\n",
       "    <tr>\n",
       "      <th>60</th>\n",
       "      <td>Thomas Jefferson</td>\n",
       "      <td>I</td>\n",
       "      <td>N</td>\n",
       "      <td>T</td>\n",
       "      <td>P</td>\n",
       "      <td>rational</td>\n",
       "      <td>rational</td>\n",
       "      <td>rational</td>\n",
       "    </tr>\n",
       "    <tr>\n",
       "      <th>61</th>\n",
       "      <td>Vladimir Lenin</td>\n",
       "      <td>I</td>\n",
       "      <td>N</td>\n",
       "      <td>T</td>\n",
       "      <td>P</td>\n",
       "      <td>rational</td>\n",
       "      <td>rational</td>\n",
       "      <td>idealist</td>\n",
       "    </tr>\n",
       "    <tr>\n",
       "      <th>62</th>\n",
       "      <td>Walt Disney</td>\n",
       "      <td>I</td>\n",
       "      <td>N</td>\n",
       "      <td>F</td>\n",
       "      <td>P</td>\n",
       "      <td>idealist</td>\n",
       "      <td>rational</td>\n",
       "      <td>rational</td>\n",
       "    </tr>\n",
       "    <tr>\n",
       "      <th>63</th>\n",
       "      <td>Warren Buffett</td>\n",
       "      <td>I</td>\n",
       "      <td>N</td>\n",
       "      <td>T</td>\n",
       "      <td>P</td>\n",
       "      <td>rational</td>\n",
       "      <td>rational</td>\n",
       "      <td>guardian</td>\n",
       "    </tr>\n",
       "    <tr>\n",
       "      <th>64</th>\n",
       "      <td>Woody Allen</td>\n",
       "      <td>I</td>\n",
       "      <td>N</td>\n",
       "      <td>T</td>\n",
       "      <td>P</td>\n",
       "      <td>rational</td>\n",
       "      <td>rational</td>\n",
       "      <td>artisan</td>\n",
       "    </tr>\n",
       "  </tbody>\n",
       "</table>\n",
       "</div>"
      ],
      "text/plain": [
       "                   person I/E S/N T/F J/P resulting temperament  \\\n",
       "0         Abraham Lincoln   I   N   F   P              idealist   \n",
       "1         Albert Einstein   I   N   T   P              rational   \n",
       "2       Albert Schweitzer   I   N   F   J              idealist   \n",
       "3           Aldous Huxley   I   N   T   J              rational   \n",
       "4      Alexander Hamilton   I   N   T   J              rational   \n",
       "5       Benjamin Franklin   I   N   T   J              rational   \n",
       "6              Bill Gates   E   N   T   J              rational   \n",
       "7               Bob Dylan   I   N   T   P              rational   \n",
       "8                  Buddha   I   N   F   J              idealist   \n",
       "9               Carl Jung   I   N   F   P              idealist   \n",
       "10         Charles Darwin   I   N   T   P              rational   \n",
       "11        Charles Dickens   I   N   F   J              idealist   \n",
       "12         Clint Eastwood   I   S   T   P               artisan   \n",
       "13           Donald Trump   E   N   T   P              rational   \n",
       "14   Dwight D. Eisenhower   I   N   T   J              rational   \n",
       "15      Eleanor Roosevelt   I   N   F   J              idealist   \n",
       "16            Elizabeth I   I   N   F   P              idealist   \n",
       "17       Elizabeth Taylor   I   N   F   P              idealist   \n",
       "18           Emily Bronte   I   N   F   P              idealist   \n",
       "19       Ernest Hemingway   I   N   F   P              idealist   \n",
       "20    F. Scott Fitzgerald   I   N   F   P              idealist   \n",
       "21  Franklin D. Roosevelt   I   N   T   P              rational   \n",
       "22    Friedrich Nietzsche   I   N   F   J              idealist   \n",
       "23    George Bernard Shaw   I   N   T   P              rational   \n",
       "24          George Orwell   I   N   T   P              rational   \n",
       "25         George W. Bush   I   N   T   P              rational   \n",
       "26      George Washington   I   N   T   J              rational   \n",
       "27             Golda Meir   E   N   T   J              rational   \n",
       "28         Harry S Truman   I   N   T   J              rational   \n",
       "29             Henry Ford   E   N   T   J              rational   \n",
       "30           Isaac Newton   I   N   T   J              rational   \n",
       "31            James Joyce   I   N   F   J              idealist   \n",
       "32            Jane Addams   I   N   T   J              rational   \n",
       "33             John Adams   I   N   T   P              rational   \n",
       "34    John D. Rockefeller   I   N   T   J              rational   \n",
       "35        John F. Kennedy   I   N   T   J              rational   \n",
       "36           Judy Garland   E   N   F   P              idealist   \n",
       "37    Kareem Abdul-Jabbar   I   N   T   P              rational   \n",
       "38      Katharine Hepburn   I   N   T   P              rational   \n",
       "39      Lyndon B. Johnson   I   N   T   J              rational   \n",
       "40         Mahatma Gandhi   I   N   F   P              idealist   \n",
       "41      Margaret Thatcher   I   N   T   J              rational   \n",
       "42         Marilyn Monroe   I   N   F   P              idealist   \n",
       "43             Mark Twain   I   N   T   P              rational   \n",
       "44        Mary Baker Eddy   I   N   F   P              idealist   \n",
       "45         Michael Jordan   I   N   T   P              rational   \n",
       "46          Mother Teresa   I   N   F   P              idealist   \n",
       "47     Napoleon Bonaparte   I   N   T   P              rational   \n",
       "48         Nelson Mandela   I   N   F   J              idealist   \n",
       "49          Oprah Winfrey   I   N   F   P              idealist   \n",
       "50          Pablo Picasso   I   N   F   J              idealist   \n",
       "51                  Plato   I   N   F   P              idealist   \n",
       "52      Pope John Paul II   I   N   T   J              rational   \n",
       "53         Princess Diana   I   N   F   J              idealist   \n",
       "54     Queen Elizabeth II   I   N   F   J              idealist   \n",
       "55          Ronald Reagan   I   N   T   P              rational   \n",
       "56      Soren Kierkegaard   I   N   F   P              idealist   \n",
       "57        Stephen Hawking   I   N   T   J              rational   \n",
       "58             Steve Jobs   I   N   F   J              idealist   \n",
       "59     Theodore Roosevelt   I   N   T   J              rational   \n",
       "60       Thomas Jefferson   I   N   T   P              rational   \n",
       "61         Vladimir Lenin   I   N   T   P              rational   \n",
       "62            Walt Disney   I   N   F   P              idealist   \n",
       "63         Warren Buffett   I   N   T   P              rational   \n",
       "64            Woody Allen   I   N   T   P              rational   \n",
       "\n",
       "   pred temperament real temperament  \n",
       "0          idealist         rational  \n",
       "1          rational         rational  \n",
       "2          idealist         idealist  \n",
       "3          rational         idealist  \n",
       "4          rational         idealist  \n",
       "5          idealist         rational  \n",
       "6          rational         rational  \n",
       "7          idealist          artisan  \n",
       "8          idealist         idealist  \n",
       "9          idealist         idealist  \n",
       "10         rational         rational  \n",
       "11         idealist         idealist  \n",
       "12         guardian          artisan  \n",
       "13         rational          artisan  \n",
       "14         rational         rational  \n",
       "15         idealist         idealist  \n",
       "16         rational         guardian  \n",
       "17         rational          artisan  \n",
       "18         rational         idealist  \n",
       "19         idealist          artisan  \n",
       "20         idealist          artisan  \n",
       "21         rational          artisan  \n",
       "22         idealist         rational  \n",
       "23         rational         rational  \n",
       "24         rational         idealist  \n",
       "25         rational          artisan  \n",
       "26         rational         guardian  \n",
       "27         rational         rational  \n",
       "28         rational         guardian  \n",
       "29         rational         guardian  \n",
       "30         rational         rational  \n",
       "31         idealist         idealist  \n",
       "32         rational         idealist  \n",
       "33         rational         rational  \n",
       "34         rational         guardian  \n",
       "35         rational          artisan  \n",
       "36         idealist          artisan  \n",
       "37         rational         guardian  \n",
       "38         rational          artisan  \n",
       "39         rational          artisan  \n",
       "40         idealist         idealist  \n",
       "41         rational         rational  \n",
       "42         idealist          artisan  \n",
       "43         rational         rational  \n",
       "44         rational         idealist  \n",
       "45         rational          artisan  \n",
       "46         idealist         guardian  \n",
       "47         rational         rational  \n",
       "48         idealist         idealist  \n",
       "49         idealist         idealist  \n",
       "50         idealist          artisan  \n",
       "51         idealist         idealist  \n",
       "52         rational         idealist  \n",
       "53         idealist         idealist  \n",
       "54         rational         guardian  \n",
       "55         rational          artisan  \n",
       "56         idealist         idealist  \n",
       "57         rational         rational  \n",
       "58         rational         rational  \n",
       "59         guardian          artisan  \n",
       "60         rational         rational  \n",
       "61         rational         idealist  \n",
       "62         rational         rational  \n",
       "63         rational         guardian  \n",
       "64         rational          artisan  "
      ]
     },
     "execution_count": 48,
     "metadata": {},
     "output_type": "execute_result"
    }
   ],
   "source": [
    "cols = ['person', 'I/E', 'S/N', 'T/F', 'J/P', 'resulting temperament', 'pred temperament', 'real temperament']\n",
    "predictions = pd.DataFrame(columns = cols)\n",
    "predictions['person'] = test_text['person']\n",
    "predictions['I/E'] = ie_model_balanced.predict(test_text['quotes'])\n",
    "predictions['S/N'] = sn_model_balanced.predict(test_text['quotes'])\n",
    "predictions['T/F'] = tf_model.predict(test_text['quotes'])\n",
    "predictions['J/P'] = jp_model_balanced.predict(test_text['quotes'])\n",
    "predictions['pred temperament'] = temperament_model_balanced.predict(test_text['quotes'])\n",
    "predictions['real temperament'] = quotes['temperament']\n",
    "\n",
    "\n",
    "\n",
    "for row in range(0,len(predictions)):\n",
    "    if predictions.loc[row,'S/N'] == 'N' and predictions.loc[row,'T/F'] == 'T':\n",
    "        predictions.loc[row,'resulting temperament'] = 'rational'\n",
    "\n",
    "    if predictions.loc[row,'S/N'] == 'N' and predictions.loc[row,'T/F'] == 'F':\n",
    "        predictions.loc[row,'resulting temperament'] = 'idealist'\n",
    "        \n",
    "    if predictions.loc[row,'S/N'] == 'S' and predictions.loc[row,'J/P'] == 'J':\n",
    "        predictions.loc[row,'resulting temperament'] = 'guardian'\n",
    "        \n",
    "    if predictions.loc[row,'S/N'] == 'S' and predictions.loc[row,'J/P'] == 'P':\n",
    "        predictions.loc[row,'resulting temperament'] = 'artisan'\n",
    "\n",
    "\n",
    "print(\"Resulting Temperament Accuracy: \", np.mean(predictions['resulting temperament'] == test_text['temperament']))\n",
    "print(\"Predicted Temperament Accuracy: \", np.mean(predictions['pred temperament'] == test_text['temperament']))\n",
    "print(\"IE Accuracy: \" , np.mean(predictions['I/E'] == test_text['ie']))\n",
    "print(\"SN Accuracy: \" , np.mean(predictions['S/N'] == test_text['sn']))\n",
    "print(\"TF Accuracy: \" , np.mean(predictions['T/F'] == test_text['tf']))\n",
    "print(\"JP Accuracy: \" , np.mean(predictions['J/P'] == test_text['jp']))\n",
    "\n",
    "pd.set_option('display.max_rows', None)\n",
    "predictions"
   ]
  },
  {
   "cell_type": "markdown",
   "metadata": {},
   "source": [
    "The results don't look good. Let's explore the confusion matrices."
   ]
  },
  {
   "cell_type": "code",
   "execution_count": 49,
   "metadata": {},
   "outputs": [
    {
     "data": {
      "text/plain": [
       "array([[31,  1],\n",
       "       [29,  4]], dtype=int64)"
      ]
     },
     "execution_count": 49,
     "metadata": {},
     "output_type": "execute_result"
    },
    {
     "data": {
      "text/plain": [
       "<matplotlib.figure.Figure at 0x14f117a0358>"
      ]
     },
     "execution_count": 49,
     "metadata": {},
     "output_type": "execute_result"
    },
    {
     "data": {
      "text/plain": [
       "<matplotlib.axes._subplots.AxesSubplot at 0x14f0aebb5f8>"
      ]
     },
     "execution_count": 49,
     "metadata": {},
     "output_type": "execute_result"
    },
    {
     "data": {
      "image/png": "[encoded data removed]",
      "text/plain": [
       "<matplotlib.figure.Figure at 0x14f117a0358>"
      ]
     },
     "metadata": {},
     "output_type": "display_data"
    }
   ],
   "source": [
    "conf = confusion_matrix(test_text['ie'], predictions['I/E'], labels=[\"I\", \"E\"]) \n",
    "conf\n",
    "df_cm = pd.DataFrame(conf, index = [\"I\", \"E\"], columns = [\"I\", \"E\"])\n",
    "plt.figure(figsize = (10,7))\n",
    "sn.heatmap(df_cm, annot=True, cmap='Blues', fmt='g')\n",
    "plt.show()"
   ]
  },
  {
   "cell_type": "markdown",
   "metadata": {},
   "source": [
    "The I's are over-predicted. Actually nearly all of the dataset is classified as I. We can probably deduce that this is caused by the overwhelmingly small number of E's in the original dataset. Even duplicating the E rows didn't help here."
   ]
  },
  {
   "cell_type": "code",
   "execution_count": 50,
   "metadata": {},
   "outputs": [
    {
     "data": {
      "text/plain": [
       "array([[ 1, 26],\n",
       "       [ 0, 38]], dtype=int64)"
      ]
     },
     "execution_count": 50,
     "metadata": {},
     "output_type": "execute_result"
    },
    {
     "data": {
      "text/plain": [
       "<matplotlib.figure.Figure at 0x14f126b2fd0>"
      ]
     },
     "execution_count": 50,
     "metadata": {},
     "output_type": "execute_result"
    },
    {
     "data": {
      "text/plain": [
       "<matplotlib.axes._subplots.AxesSubplot at 0x14f117a0ac8>"
      ]
     },
     "execution_count": 50,
     "metadata": {},
     "output_type": "execute_result"
    },
    {
     "data": {
      "image/png": "[encoded data removed]",
      "text/plain": [
       "<matplotlib.figure.Figure at 0x14f126b2fd0>"
      ]
     },
     "metadata": {},
     "output_type": "display_data"
    }
   ],
   "source": [
    "conf = confusion_matrix(test_text['sn'], predictions['S/N'], labels=[\"S\", \"N\"]) \n",
    "conf\n",
    "df_cm = pd.DataFrame(conf, index = [\"S\", \"N\"], columns = [\"S\", \"N\"])\n",
    "plt.figure(figsize = (10,7))\n",
    "sn.heatmap(df_cm, annot=True, cmap='Blues', fmt='g')\n",
    "plt.show()"
   ]
  },
  {
   "cell_type": "markdown",
   "metadata": {},
   "source": [
    "We have the same problem. The N's are over-predicted, and this is probably caused by the very low number of S rows in the training data, which gives us fewer training patterns to find."
   ]
  },
  {
   "cell_type": "code",
   "execution_count": 51,
   "metadata": {
    "scrolled": false
   },
   "outputs": [
    {
     "data": {
      "text/plain": [
       "array([[29,  8],\n",
       "       [ 9, 19]], dtype=int64)"
      ]
     },
     "execution_count": 51,
     "metadata": {},
     "output_type": "execute_result"
    },
    {
     "data": {
      "text/plain": [
       "<matplotlib.figure.Figure at 0x14f1230b160>"
      ]
     },
     "execution_count": 51,
     "metadata": {},
     "output_type": "execute_result"
    },
    {
     "data": {
      "text/plain": [
       "<matplotlib.axes._subplots.AxesSubplot at 0x14f117caf60>"
      ]
     },
     "execution_count": 51,
     "metadata": {},
     "output_type": "execute_result"
    },
    {
     "data": {
      "image/png": "[encoded data removed]",
      "text/plain": [
       "<matplotlib.figure.Figure at 0x14f1230b160>"
      ]
     },
     "metadata": {},
     "output_type": "display_data"
    }
   ],
   "source": [
    "conf = confusion_matrix(test_text['tf'], predictions['T/F'], labels=[\"T\", \"F\"]) \n",
    "conf\n",
    "df_cm = pd.DataFrame(conf, index = [\"T\", \"F\"], columns = [\"T\", \"F\"])\n",
    "plt.figure(figsize = (10,7))\n",
    "sn.heatmap(df_cm, annot=True, cmap='Blues', fmt='g')\n",
    "plt.show()"
   ]
  },
  {
   "cell_type": "markdown",
   "metadata": {},
   "source": [
    "78% of T's are correctly identified, while 68% of the F's are correctly identified. There is some classification happening and it is better in predicting the T's. In the original data, the F's were actually more than the T's. This tells us that, while close, there are differences in which Thinking and Feeling traits show up in the training tweets and the celebrity quotes."
   ]
  },
  {
   "cell_type": "code",
   "execution_count": 52,
   "metadata": {},
   "outputs": [
    {
     "data": {
      "text/plain": [
       "array([[17, 14],\n",
       "       [12, 22]], dtype=int64)"
      ]
     },
     "execution_count": 52,
     "metadata": {},
     "output_type": "execute_result"
    },
    {
     "data": {
      "text/plain": [
       "<matplotlib.figure.Figure at 0x14f24cbf780>"
      ]
     },
     "execution_count": 52,
     "metadata": {},
     "output_type": "execute_result"
    },
    {
     "data": {
      "text/plain": [
       "<matplotlib.axes._subplots.AxesSubplot at 0x14f19ee0860>"
      ]
     },
     "execution_count": 52,
     "metadata": {},
     "output_type": "execute_result"
    },
    {
     "data": {
      "image/png": "[encoded data removed]",
      "text/plain": [
       "<matplotlib.figure.Figure at 0x14f24cbf780>"
      ]
     },
     "metadata": {},
     "output_type": "display_data"
    }
   ],
   "source": [
    "conf = confusion_matrix(test_text['jp'], predictions['J/P'], labels=[\"J\", \"P\"]) \n",
    "conf\n",
    "df_cm = pd.DataFrame(conf, index = [\"J\", \"P\"], columns = [\"J\", \"P\"])\n",
    "plt.figure(figsize = (10,7))\n",
    "sn.heatmap(df_cm, annot=True, cmap='Blues', fmt='g')\n",
    "plt.show()"
   ]
  },
  {
   "cell_type": "markdown",
   "metadata": {},
   "source": [
    "55% for correctly predicting J's, and 65% for P's. We said earlier that there seems to be little indication that J or P appear in the text, and this might be the cause here. The results are luke-warm, some are classified correctly but a lot of correct predictions are missed."
   ]
  },
  {
   "cell_type": "code",
   "execution_count": 53,
   "metadata": {},
   "outputs": [
    {
     "data": {
      "text/plain": [
       "array([[15,  3,  0,  0],\n",
       "       [ 8, 12,  0,  0],\n",
       "       [ 8,  1,  0,  0],\n",
       "       [10,  6,  2,  0]], dtype=int64)"
      ]
     },
     "execution_count": 53,
     "metadata": {},
     "output_type": "execute_result"
    },
    {
     "data": {
      "text/plain": [
       "<matplotlib.figure.Figure at 0x14f32864a90>"
      ]
     },
     "execution_count": 53,
     "metadata": {},
     "output_type": "execute_result"
    },
    {
     "data": {
      "text/plain": [
       "<matplotlib.axes._subplots.AxesSubplot at 0x14f32853a58>"
      ]
     },
     "execution_count": 53,
     "metadata": {},
     "output_type": "execute_result"
    },
    {
     "data": {
      "image/png": "[encoded data removed]",
      "text/plain": [
       "<matplotlib.figure.Figure at 0x14f32864a90>"
      ]
     },
     "metadata": {},
     "output_type": "display_data"
    }
   ],
   "source": [
    "conf = confusion_matrix(test_text['temperament'], predictions['pred temperament'], labels=[\"rational\", \"idealist\", \"guardian\", \"artisan\"]) \n",
    "conf\n",
    "df_cm = pd.DataFrame(conf, index = [\"rational\", \"idealist\", \"guardian\", \"artisan\"], columns = [\"rational\", \"idealist\", \"guardian\", \"artisan\"])\n",
    "plt.figure(figsize = (10,7))\n",
    "sn.heatmap(df_cm, annot=True, cmap='Blues', fmt='g')\n",
    "plt.show()"
   ]
  },
  {
   "cell_type": "markdown",
   "metadata": {},
   "source": [
    "This is the confusion matrix of our temperament model, meaning that this model directly looks at the text and tries to predict temperament. The results are not good. First of all, guardians and artisans are almost never predicted, and we can attribute that to their low frequency in the training set. Rationals are predicted very well and Idealists are fairly predicted but a lot of them are mistaken as rationals."
   ]
  },
  {
   "cell_type": "code",
   "execution_count": 54,
   "metadata": {},
   "outputs": [
    {
     "data": {
      "text/plain": [
       "array([[14,  4,  0,  0],\n",
       "       [ 6, 14,  0,  0],\n",
       "       [ 6,  3,  0,  0],\n",
       "       [11,  6,  0,  1]], dtype=int64)"
      ]
     },
     "execution_count": 54,
     "metadata": {},
     "output_type": "execute_result"
    },
    {
     "data": {
      "text/plain": [
       "<matplotlib.figure.Figure at 0x14f19d49278>"
      ]
     },
     "execution_count": 54,
     "metadata": {},
     "output_type": "execute_result"
    },
    {
     "data": {
      "text/plain": [
       "<matplotlib.axes._subplots.AxesSubplot at 0x14f0cca79e8>"
      ]
     },
     "execution_count": 54,
     "metadata": {},
     "output_type": "execute_result"
    },
    {
     "data": {
      "image/png": "[encoded data removed]",
      "text/plain": [
       "<matplotlib.figure.Figure at 0x14f19d49278>"
      ]
     },
     "metadata": {},
     "output_type": "display_data"
    }
   ],
   "source": [
    "conf = confusion_matrix(test_text['temperament'], predictions['resulting temperament'], labels=[\"rational\", \"idealist\", \"guardian\", \"artisan\"]) \n",
    "conf\n",
    "df_cm = pd.DataFrame(conf, index = [\"rational\", \"idealist\", \"guardian\", \"artisan\"], columns = [\"rational\", \"idealist\", \"guardian\", \"artisan\"])\n",
    "plt.figure(figsize = (10,7))\n",
    "sn.heatmap(df_cm, annot=True, cmap='Blues', fmt='g')\n",
    "plt.show()"
   ]
  },
  {
   "cell_type": "markdown",
   "metadata": {},
   "source": [
    "These are the predictions that resulted from combining the individual letters as we described above. The only difference here is that the Idealists are predicted better than before, but we still see an absence in the guardians and artisans. And this is partly because of the low number of training and predicted S's which are common for both guardians and artisans."
   ]
  },
  {
   "cell_type": "raw",
   "metadata": {},
   "source": [
    "conf = confusion_matrix(test_text['temperament'], predictions['pred temperament'], labels=[\"rational\", \"idealist\", \"guardian\", \"artisan\"]) \n",
    "conf\n",
    "df_cm = pd.DataFrame(conf, index = [\"rational\", \"idealist\", \"guardian\", \"artisan\"], columns = [\"rational\", \"idealist\", \"guardian\", \"artisan\"])\n",
    "plt.figure(figsize = (10,7))\n",
    "sn.heatmap(df_cm, annot=True, cmap='Blues', fmt='g')\n",
    "plt.show()"
   ]
  },
  {
   "cell_type": "markdown",
   "metadata": {},
   "source": [
    " "
   ]
  },
  {
   "cell_type": "markdown",
   "metadata": {},
   "source": [
    " "
   ]
  },
  {
   "cell_type": "markdown",
   "metadata": {},
   "source": [
    "# Conclusions"
   ]
  },
  {
   "cell_type": "markdown",
   "metadata": {},
   "source": [
    "To attempt at answer the original question of this notebook - Can we predict personality from the way people write? - the answer is yes and no.\n",
    "\n",
    "\n",
    "Why Yes:\n",
    "\n",
    "- Our original model (with the unbalanced datasets) was correctly predicting the Rationals and Idealists, and this means that there was something in the way people wrote their tweets that pointed to their personality type.\n",
    "\n",
    "\n",
    "- Thinking and Feeling were also predicted fairly well in our original model, which again tells us that something in how people wrote distinguished this personality preference in them. Predictions from T and F were also fairly good for the quotes from famous people, and that is relevant because the fact that the other models don't work well on the file tells us that there are structural differences between these quotes and the training tweets. And despite this, Thinking and Feeling preferences appear to be distinguishable.\n",
    "\n",
    "\n",
    "- There are also hints of distinguishable differences between J and P in their original model and in the quotes file, although not as clearly as the others.\n",
    "\n",
    "\n",
    "Why No:\n",
    "\n",
    "- People write in different ways according to the context. During the development of this notebook, a quick test was done on the twitter stream of current celebrities using these models, and nearly all of them are showing up as Idealists (some were predicted as rational). While this can be attributed to the high number of idealists and rationals in the training data, it also points to the fact that being an \"Idealist\" is the image that a lot of celebrities try to make for themselves in this age of political correctness; and many of them are even responsible for awareness campaigns. So the way a famous person would write on twitter, is not the same as how an average person would on his own twitter. And this in turn is not the same as how a person would write in their personal journals or when authoring their book.\n",
    "\n",
    "\n",
    "\n",
    "\n",
    "What do we need to go forward?\n",
    "A Balanced Dataset. \n",
    "\n",
    "This would at least give us a fair assessment of how well can we predict with our models. There seems to be something we can find, but it might be limited to domain. Meaning that models built with tweets from normal people should be used to classify tweets of other normal people, models built from how an author wrote their book, should be used to classify authors for books,...etc.\n",
    "\n",
    "But again, the models we built in this notebook tell us that there are indications that personality type can be deduced from the way people write."
   ]
  }
 ],
 "metadata": {
  "kernelspec": {
   "display_name": "Python 3",
   "language": "python",
   "name": "python3"
  },
  "language_info": {
   "codemirror_mode": {
    "name": "ipython",
    "version": 3
   },
   "file_extension": ".py",
   "mimetype": "text/x-python",
   "name": "python",
   "nbconvert_exporter": "python",
   "pygments_lexer": "ipython3",
   "version": "3.6.3"
  }
 },
 "nbformat": 4,
 "nbformat_minor": 2
}
